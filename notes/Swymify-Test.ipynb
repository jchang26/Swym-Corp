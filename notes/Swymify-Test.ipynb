{
 "cells": [
  {
   "cell_type": "code",
   "execution_count": 4,
   "metadata": {
    "collapsed": false
   },
   "outputs": [
    {
     "name": "stdout",
     "output_type": "stream",
     "text": [
      "Order 1 RFC cross-validation score = 0.711251162394\n",
      "Order 1 RFC testing score = 0.776655664234\n",
      "Order 2 RFC cross-validation score = 0.705320630969\n",
      "Order 2 RFC testing score = 0.780575277626\n",
      "Order 3 RFC cross-validation score = 0.691728478988\n",
      "Order 3 RFC testing score = 0.768524856678\n",
      "Order 4 RFC cross-validation score = 0.687608723529\n",
      "Order 4 RFC testing score = 0.760626564553\n",
      "Order 5 RFC cross-validation score = 0.685164952519\n",
      "Order 5 RFC testing score = 0.759149202377\n",
      "Order 6 RFC cross-validation score = 0.685018451403\n",
      "Order 6 RFC testing score = 0.754884489518\n",
      "0.711917036097\n",
      "0.776579959422\n"
     ]
    }
   ],
   "source": [
    "%run Swymify.py"
   ]
  },
  {
   "cell_type": "code",
   "execution_count": 233,
   "metadata": {
    "collapsed": false
   },
   "outputs": [
    {
     "name": "stdout",
     "output_type": "stream",
     "text": [
      "0.711927862412\n",
      "0.776670805196\n"
     ]
    }
   ],
   "source": [
    "%run Swymify.py"
   ]
  },
  {
   "cell_type": "code",
   "execution_count": 234,
   "metadata": {
    "collapsed": false
   },
   "outputs": [
    {
     "data": {
      "text/plain": [
       " 1.0      120894\n",
       " 3.0       25843\n",
       " 104.0     13047\n",
       " 7.0        7844\n",
       " 4.0        7407\n",
       " 6.0        7104\n",
       "-1.0        2575\n",
       "Name: nextaction, dtype: int64"
      ]
     },
     "execution_count": 234,
     "metadata": {},
     "output_type": "execute_result"
    }
   ],
   "source": [
    "Markov_test.swym_y.value_counts()"
   ]
  },
  {
   "cell_type": "code",
   "execution_count": 235,
   "metadata": {
    "collapsed": false
   },
   "outputs": [],
   "source": [
    "d, c, x, y = Markov_test.markovify('8k5novj0knl8vha42324qs62p6vfa3im8djvdctm3m8p6gqkdwpnu632xpczvo5r')"
   ]
  },
  {
   "cell_type": "code",
   "execution_count": 240,
   "metadata": {
    "collapsed": false
   },
   "outputs": [
    {
     "data": {
      "text/plain": [
       "(1,)"
      ]
     },
     "execution_count": 240,
     "metadata": {},
     "output_type": "execute_result"
    }
   ],
   "source": [
    "y.shape"
   ]
  },
  {
   "cell_type": "code",
   "execution_count": 243,
   "metadata": {
    "collapsed": false
   },
   "outputs": [
    {
     "data": {
      "text/plain": [
       "(184714, 242)"
      ]
     },
     "execution_count": 243,
     "metadata": {},
     "output_type": "execute_result"
    }
   ],
   "source": [
    "Markov_test.swym_x.shape"
   ]
  },
  {
   "cell_type": "code",
   "execution_count": null,
   "metadata": {
    "collapsed": true
   },
   "outputs": [],
   "source": []
  },
  {
   "cell_type": "code",
   "execution_count": null,
   "metadata": {
    "collapsed": true
   },
   "outputs": [],
   "source": []
  },
  {
   "cell_type": "code",
   "execution_count": 36,
   "metadata": {
    "collapsed": false
   },
   "outputs": [],
   "source": [
    "#Code to find best session for Markov chain\n",
    "import pandas as pd\n",
    "session = pd.DataFrame(Markov_test.modeling_df['sessionid'])\n",
    "session.columns = ['sessionid']\n",
    "session['predicted'] = Markov_test.model.predict(Markov_test.swym_x)\n",
    "session['actual'] = Markov_test.swym_y\n",
    "session['same'] = session['predicted'] == session['actual']\n",
    "session['same'] = session['same'].astype(int)\n",
    "max_sess = None\n",
    "max_same = 0\n",
    "for i in session['sessionid'].unique():\n",
    "    one_session = session[session['sessionid'] == i]\n",
    "    if np.sum(one_session['same']) > max_same and np.sum(one_session['same']) == one_session.shape[0]:\n",
    "        max_sess = i\n",
    "        max_same = np.sum(one_session['same'])"
   ]
  },
  {
   "cell_type": "code",
   "execution_count": 46,
   "metadata": {
    "collapsed": true
   },
   "outputs": [],
   "source": [
    "max_sess = None\n",
    "max_same = 0\n",
    "for i in session['sessionid'].unique():\n",
    "    one_session = session[session['sessionid'] == i]\n",
    "    if np.sum(one_session['same']) > max_same and np.sum(one_session['same']) == one_session.shape[0] :\n",
    "        max_sess = i\n",
    "        max_same = np.sum(one_session['same'])"
   ]
  },
  {
   "cell_type": "code",
   "execution_count": 47,
   "metadata": {
    "collapsed": false
   },
   "outputs": [
    {
     "data": {
      "text/plain": [
       "3"
      ]
     },
     "execution_count": 47,
     "metadata": {},
     "output_type": "execute_result"
    }
   ],
   "source": [
    "max_same"
   ]
  },
  {
   "cell_type": "code",
   "execution_count": 48,
   "metadata": {
    "collapsed": false
   },
   "outputs": [
    {
     "data": {
      "text/plain": [
       "'8k5novj0knl8vha42324qs62p6vfa3im8djvdctm3m8p6gqkdwpnu632xpczvo5r'"
      ]
     },
     "execution_count": 48,
     "metadata": {},
     "output_type": "execute_result"
    }
   ],
   "source": [
    "max_sess"
   ]
  },
  {
   "cell_type": "code",
   "execution_count": 49,
   "metadata": {
    "collapsed": false
   },
   "outputs": [],
   "source": [
    "check = Markov_test.modeling_df[Markov_test.modeling_df['sessionid'] == max_sess]"
   ]
  },
  {
   "cell_type": "code",
   "execution_count": 52,
   "metadata": {
    "collapsed": false
   },
   "outputs": [
    {
     "data": {
      "text/html": [
       "<div>\n",
       "<table border=\"1\" class=\"dataframe\">\n",
       "  <thead>\n",
       "    <tr style=\"text-align: right;\">\n",
       "      <th></th>\n",
       "      <th>85367</th>\n",
       "      <th>85368</th>\n",
       "      <th>85369</th>\n",
       "    </tr>\n",
       "  </thead>\n",
       "  <tbody>\n",
       "    <tr>\n",
       "      <th>sessionid</th>\n",
       "      <td>8k5novj0knl8vha42324qs62p6vfa3im8djvdctm3m8p6g...</td>\n",
       "      <td>8k5novj0knl8vha42324qs62p6vfa3im8djvdctm3m8p6g...</td>\n",
       "      <td>8k5novj0knl8vha42324qs62p6vfa3im8djvdctm3m8p6g...</td>\n",
       "    </tr>\n",
       "    <tr>\n",
       "      <th>category</th>\n",
       "      <td></td>\n",
       "      <td></td>\n",
       "      <td></td>\n",
       "    </tr>\n",
       "    <tr>\n",
       "      <th>createddate</th>\n",
       "      <td>2017-02-09 21:15:26</td>\n",
       "      <td>2017-02-09 21:15:28</td>\n",
       "      <td>2017-02-09 21:18:53</td>\n",
       "    </tr>\n",
       "    <tr>\n",
       "      <th>pagetitle</th>\n",
       "      <td>Oh Pooh!</td>\n",
       "      <td>Paisley Elephant</td>\n",
       "      <td>Oh Pooh!</td>\n",
       "    </tr>\n",
       "    <tr>\n",
       "      <th>userid</th>\n",
       "      <td>eeejle@aol.com</td>\n",
       "      <td>eeejle@aol.com</td>\n",
       "      <td>eeejle@aol.com</td>\n",
       "    </tr>\n",
       "    <tr>\n",
       "      <th>providerid</th>\n",
       "      <td>/JnX+WmfJI4b2+NBp7+e81TFoCCSGT8QarGV6f1hHf0=</td>\n",
       "      <td>/JnX+WmfJI4b2+NBp7+e81TFoCCSGT8QarGV6f1hHf0=</td>\n",
       "      <td>/JnX+WmfJI4b2+NBp7+e81TFoCCSGT8QarGV6f1hHf0=</td>\n",
       "    </tr>\n",
       "    <tr>\n",
       "      <th>productid</th>\n",
       "      <td>3.17349e+10</td>\n",
       "      <td>3.20113e+10</td>\n",
       "      <td>3.17349e+10</td>\n",
       "    </tr>\n",
       "    <tr>\n",
       "      <th>referrerurl</th>\n",
       "      <td></td>\n",
       "      <td></td>\n",
       "      <td></td>\n",
       "    </tr>\n",
       "    <tr>\n",
       "      <th>deviceid</th>\n",
       "      <td>61d85144-f7c4-4e48-9c1e-b3a37f5debba</td>\n",
       "      <td>61d85144-f7c4-4e48-9c1e-b3a37f5debba</td>\n",
       "      <td>61d85144-f7c4-4e48-9c1e-b3a37f5debba</td>\n",
       "    </tr>\n",
       "    <tr>\n",
       "      <th>eventtype</th>\n",
       "      <td>104</td>\n",
       "      <td>104</td>\n",
       "      <td>6</td>\n",
       "    </tr>\n",
       "    <tr>\n",
       "      <th>quantity</th>\n",
       "      <td>1</td>\n",
       "      <td>1</td>\n",
       "      <td>1</td>\n",
       "    </tr>\n",
       "    <tr>\n",
       "      <th>price</th>\n",
       "      <td>25</td>\n",
       "      <td>25</td>\n",
       "      <td>25</td>\n",
       "    </tr>\n",
       "    <tr>\n",
       "      <th>dayofweek</th>\n",
       "      <td>3</td>\n",
       "      <td>3</td>\n",
       "      <td>3</td>\n",
       "    </tr>\n",
       "    <tr>\n",
       "      <th>hour</th>\n",
       "      <td>21</td>\n",
       "      <td>21</td>\n",
       "      <td>21</td>\n",
       "    </tr>\n",
       "    <tr>\n",
       "      <th>devicecategory</th>\n",
       "      <td>Unknown</td>\n",
       "      <td>Unknown</td>\n",
       "      <td>Unknown</td>\n",
       "    </tr>\n",
       "    <tr>\n",
       "      <th>devicetype</th>\n",
       "      <td>Unknown</td>\n",
       "      <td>Unknown</td>\n",
       "      <td>Unknown</td>\n",
       "    </tr>\n",
       "    <tr>\n",
       "      <th>agenttype</th>\n",
       "      <td>Unknown</td>\n",
       "      <td>Unknown</td>\n",
       "      <td>Unknown</td>\n",
       "    </tr>\n",
       "    <tr>\n",
       "      <th>os</th>\n",
       "      <td>Unknown</td>\n",
       "      <td>Unknown</td>\n",
       "      <td>Unknown</td>\n",
       "    </tr>\n",
       "    <tr>\n",
       "      <th>hist_ind</th>\n",
       "      <td>1</td>\n",
       "      <td>1</td>\n",
       "      <td>1</td>\n",
       "    </tr>\n",
       "    <tr>\n",
       "      <th>elapsedtime</th>\n",
       "      <td>0</td>\n",
       "      <td>2</td>\n",
       "      <td>205</td>\n",
       "    </tr>\n",
       "    <tr>\n",
       "      <th>totalelapsedtime</th>\n",
       "      <td>0</td>\n",
       "      <td>2</td>\n",
       "      <td>207</td>\n",
       "    </tr>\n",
       "    <tr>\n",
       "      <th>nextaction</th>\n",
       "      <td>104</td>\n",
       "      <td>6</td>\n",
       "      <td>6</td>\n",
       "    </tr>\n",
       "  </tbody>\n",
       "</table>\n",
       "</div>"
      ],
      "text/plain": [
       "                                                              85367  \\\n",
       "sessionid         8k5novj0knl8vha42324qs62p6vfa3im8djvdctm3m8p6g...   \n",
       "category                                                              \n",
       "createddate                                     2017-02-09 21:15:26   \n",
       "pagetitle                                                  Oh Pooh!   \n",
       "userid                                               eeejle@aol.com   \n",
       "providerid             /JnX+WmfJI4b2+NBp7+e81TFoCCSGT8QarGV6f1hHf0=   \n",
       "productid                                               3.17349e+10   \n",
       "referrerurl                                                           \n",
       "deviceid                       61d85144-f7c4-4e48-9c1e-b3a37f5debba   \n",
       "eventtype                                                       104   \n",
       "quantity                                                          1   \n",
       "price                                                            25   \n",
       "dayofweek                                                         3   \n",
       "hour                                                             21   \n",
       "devicecategory                                              Unknown   \n",
       "devicetype                                                  Unknown   \n",
       "agenttype                                                   Unknown   \n",
       "os                                                          Unknown   \n",
       "hist_ind                                                          1   \n",
       "elapsedtime                                                       0   \n",
       "totalelapsedtime                                                  0   \n",
       "nextaction                                                      104   \n",
       "\n",
       "                                                              85368  \\\n",
       "sessionid         8k5novj0knl8vha42324qs62p6vfa3im8djvdctm3m8p6g...   \n",
       "category                                                              \n",
       "createddate                                     2017-02-09 21:15:28   \n",
       "pagetitle                                          Paisley Elephant   \n",
       "userid                                               eeejle@aol.com   \n",
       "providerid             /JnX+WmfJI4b2+NBp7+e81TFoCCSGT8QarGV6f1hHf0=   \n",
       "productid                                               3.20113e+10   \n",
       "referrerurl                                                           \n",
       "deviceid                       61d85144-f7c4-4e48-9c1e-b3a37f5debba   \n",
       "eventtype                                                       104   \n",
       "quantity                                                          1   \n",
       "price                                                            25   \n",
       "dayofweek                                                         3   \n",
       "hour                                                             21   \n",
       "devicecategory                                              Unknown   \n",
       "devicetype                                                  Unknown   \n",
       "agenttype                                                   Unknown   \n",
       "os                                                          Unknown   \n",
       "hist_ind                                                          1   \n",
       "elapsedtime                                                       2   \n",
       "totalelapsedtime                                                  2   \n",
       "nextaction                                                        6   \n",
       "\n",
       "                                                              85369  \n",
       "sessionid         8k5novj0knl8vha42324qs62p6vfa3im8djvdctm3m8p6g...  \n",
       "category                                                             \n",
       "createddate                                     2017-02-09 21:18:53  \n",
       "pagetitle                                                  Oh Pooh!  \n",
       "userid                                               eeejle@aol.com  \n",
       "providerid             /JnX+WmfJI4b2+NBp7+e81TFoCCSGT8QarGV6f1hHf0=  \n",
       "productid                                               3.17349e+10  \n",
       "referrerurl                                                          \n",
       "deviceid                       61d85144-f7c4-4e48-9c1e-b3a37f5debba  \n",
       "eventtype                                                         6  \n",
       "quantity                                                          1  \n",
       "price                                                            25  \n",
       "dayofweek                                                         3  \n",
       "hour                                                             21  \n",
       "devicecategory                                              Unknown  \n",
       "devicetype                                                  Unknown  \n",
       "agenttype                                                   Unknown  \n",
       "os                                                          Unknown  \n",
       "hist_ind                                                          1  \n",
       "elapsedtime                                                     205  \n",
       "totalelapsedtime                                                207  \n",
       "nextaction                                                        6  "
      ]
     },
     "execution_count": 52,
     "metadata": {},
     "output_type": "execute_result"
    }
   ],
   "source": [
    "check.T"
   ]
  },
  {
   "cell_type": "code",
   "execution_count": 37,
   "metadata": {
    "collapsed": false
   },
   "outputs": [
    {
     "data": {
      "text/plain": [
       " 1.0      120894\n",
       " 3.0       25843\n",
       " 104.0     13047\n",
       " 7.0        7844\n",
       " 4.0        7407\n",
       " 6.0        7104\n",
       "-1.0        2575\n",
       "Name: nextaction, dtype: int64"
      ]
     },
     "execution_count": 37,
     "metadata": {},
     "output_type": "execute_result"
    }
   ],
   "source": [
    "Markov_test.swym_y.value_counts()"
   ]
  },
  {
   "cell_type": "code",
   "execution_count": 222,
   "metadata": {
    "collapsed": false
   },
   "outputs": [],
   "source": [
    "test = Markov_test.modeling_df[Markov_test.modeling_df['sessionid'] == '8k5novj0knl8vha42324qs62p6vfa3im8djvdctm3m8p6gqkdwpnu632xpczvo5r'].sort_values('createddate').head(1)"
   ]
  },
  {
   "cell_type": "code",
   "execution_count": 223,
   "metadata": {
    "collapsed": false
   },
   "outputs": [],
   "source": [
    "test.reset_index(drop = True, inplace = True)"
   ]
  },
  {
   "cell_type": "code",
   "execution_count": 224,
   "metadata": {
    "collapsed": false
   },
   "outputs": [],
   "source": [
    "test['elapsedtime'] = 0\n",
    "test['totalelapsedtime'] = 0\n",
    "test['nextaction'] = -1"
   ]
  },
  {
   "cell_type": "code",
   "execution_count": 225,
   "metadata": {
    "collapsed": false
   },
   "outputs": [],
   "source": [
    "test = Markov_test.swym_dummy_featurize(test)"
   ]
  },
  {
   "cell_type": "code",
   "execution_count": 226,
   "metadata": {
    "collapsed": true
   },
   "outputs": [],
   "source": [
    "test = Markov_test.swym_nlp_read(test)"
   ]
  },
  {
   "cell_type": "code",
   "execution_count": 227,
   "metadata": {
    "collapsed": false
   },
   "outputs": [],
   "source": [
    "single_x, single_y = Markov_test.swym_trim_data(test)"
   ]
  },
  {
   "cell_type": "code",
   "execution_count": 199,
   "metadata": {
    "collapsed": false,
    "scrolled": false
   },
   "outputs": [
    {
     "data": {
      "text/html": [
       "<div>\n",
       "<table border=\"1\" class=\"dataframe\">\n",
       "  <thead>\n",
       "    <tr style=\"text-align: right;\">\n",
       "      <th></th>\n",
       "      <th>index</th>\n",
       "      <th>quantity</th>\n",
       "      <th>price</th>\n",
       "      <th>hist_ind</th>\n",
       "      <th>elapsedtime</th>\n",
       "      <th>totalelapsedtime</th>\n",
       "      <th>Page View</th>\n",
       "      <th>Add to Cart</th>\n",
       "      <th>Add to Wishlist</th>\n",
       "      <th>Purchase</th>\n",
       "      <th>...</th>\n",
       "      <th>turtles</th>\n",
       "      <th>valentine</th>\n",
       "      <th>valentines</th>\n",
       "      <th>white</th>\n",
       "      <th>wings</th>\n",
       "      <th>winter</th>\n",
       "      <th>wire</th>\n",
       "      <th>wolves</th>\n",
       "      <th>year</th>\n",
       "      <th>years</th>\n",
       "    </tr>\n",
       "  </thead>\n",
       "  <tbody>\n",
       "    <tr>\n",
       "      <th>0</th>\n",
       "      <td>85367</td>\n",
       "      <td>1.0</td>\n",
       "      <td>25.0</td>\n",
       "      <td>1.0</td>\n",
       "      <td>0</td>\n",
       "      <td>0</td>\n",
       "      <td>0</td>\n",
       "      <td>0</td>\n",
       "      <td>0</td>\n",
       "      <td>0</td>\n",
       "      <td>...</td>\n",
       "      <td>0.0</td>\n",
       "      <td>0.0</td>\n",
       "      <td>0.0</td>\n",
       "      <td>0.0</td>\n",
       "      <td>0.0</td>\n",
       "      <td>0.0</td>\n",
       "      <td>0.0</td>\n",
       "      <td>0.0</td>\n",
       "      <td>0.0</td>\n",
       "      <td>0.0</td>\n",
       "    </tr>\n",
       "  </tbody>\n",
       "</table>\n",
       "<p>1 rows × 243 columns</p>\n",
       "</div>"
      ],
      "text/plain": [
       "   index  quantity  price  hist_ind  elapsedtime  totalelapsedtime  Page View  \\\n",
       "0  85367       1.0   25.0       1.0            0                 0          0   \n",
       "\n",
       "   Add to Cart  Add to Wishlist  Purchase  ...    turtles  valentine  \\\n",
       "0            0                0         0  ...        0.0        0.0   \n",
       "\n",
       "   valentines  white  wings  winter  wire  wolves  year  years  \n",
       "0         0.0    0.0    0.0     0.0   0.0     0.0   0.0    0.0  \n",
       "\n",
       "[1 rows x 243 columns]"
      ]
     },
     "execution_count": 199,
     "metadata": {},
     "output_type": "execute_result"
    }
   ],
   "source": [
    "single_x.head()"
   ]
  },
  {
   "cell_type": "code",
   "execution_count": 228,
   "metadata": {
    "collapsed": false
   },
   "outputs": [
    {
     "data": {
      "text/plain": [
       "(1, 242)"
      ]
     },
     "execution_count": 228,
     "metadata": {},
     "output_type": "execute_result"
    }
   ],
   "source": [
    "single_x.shape"
   ]
  },
  {
   "cell_type": "code",
   "execution_count": 170,
   "metadata": {
    "collapsed": false
   },
   "outputs": [],
   "source": [
    "df = Markov_test.swym_dummy_featurize(Markov_test.modeling_df)"
   ]
  },
  {
   "cell_type": "code",
   "execution_count": 171,
   "metadata": {
    "collapsed": false
   },
   "outputs": [
    {
     "data": {
      "text/plain": [
       "(184714, 77)"
      ]
     },
     "execution_count": 171,
     "metadata": {},
     "output_type": "execute_result"
    }
   ],
   "source": [
    "df.shape"
   ]
  },
  {
   "cell_type": "code",
   "execution_count": 172,
   "metadata": {
    "collapsed": true
   },
   "outputs": [],
   "source": [
    "df = Markov_test.swym_nlp_read(df)"
   ]
  },
  {
   "cell_type": "code",
   "execution_count": 173,
   "metadata": {
    "collapsed": false
   },
   "outputs": [
    {
     "data": {
      "text/plain": [
       "(184714, 259)"
      ]
     },
     "execution_count": 173,
     "metadata": {},
     "output_type": "execute_result"
    }
   ],
   "source": [
    "df.shape"
   ]
  },
  {
   "cell_type": "code",
   "execution_count": 184,
   "metadata": {
    "collapsed": false
   },
   "outputs": [
    {
     "data": {
      "text/html": [
       "<div>\n",
       "<table border=\"1\" class=\"dataframe\">\n",
       "  <thead>\n",
       "    <tr style=\"text-align: right;\">\n",
       "      <th></th>\n",
       "      <th>sessionid</th>\n",
       "      <th>category</th>\n",
       "      <th>createddate</th>\n",
       "      <th>pagetitle</th>\n",
       "      <th>userid</th>\n",
       "      <th>providerid</th>\n",
       "      <th>productid</th>\n",
       "      <th>referrerurl</th>\n",
       "      <th>deviceid</th>\n",
       "      <th>eventtype</th>\n",
       "      <th>...</th>\n",
       "      <th>dayofweek</th>\n",
       "      <th>hour</th>\n",
       "      <th>devicecategory</th>\n",
       "      <th>devicetype</th>\n",
       "      <th>agenttype</th>\n",
       "      <th>os</th>\n",
       "      <th>hist_ind</th>\n",
       "      <th>elapsedtime</th>\n",
       "      <th>totalelapsedtime</th>\n",
       "      <th>nextaction</th>\n",
       "    </tr>\n",
       "  </thead>\n",
       "  <tbody>\n",
       "    <tr>\n",
       "      <th>184709</th>\n",
       "      <td>1703ym6urt1h6r2ywovc9jm7vipougz3ktu3f7d4aoce7g...</td>\n",
       "      <td>Fun Prints!,Holiday Leggings,Valentine's &amp; Mar...</td>\n",
       "      <td>2017-02-23 08:55:12</td>\n",
       "      <td>St. Valentine's Sweater Hearts</td>\n",
       "      <td>susanm2003@gmail.com</td>\n",
       "      <td>/JnX+WmfJI4b2+NBp7+e81TFoCCSGT8QarGV6f1hHf0=</td>\n",
       "      <td>3.309122e+10</td>\n",
       "      <td>www.charliesproject.com</td>\n",
       "      <td>18c2b9f5-4272-4dea-936e-c102d961d35d</td>\n",
       "      <td>1.0</td>\n",
       "      <td>...</td>\n",
       "      <td>3.0</td>\n",
       "      <td>8.0</td>\n",
       "      <td>Windows PC</td>\n",
       "      <td>Personal computer</td>\n",
       "      <td>Browser</td>\n",
       "      <td>Windows</td>\n",
       "      <td>1.0</td>\n",
       "      <td>53.0</td>\n",
       "      <td>199.0</td>\n",
       "      <td>1.0</td>\n",
       "    </tr>\n",
       "    <tr>\n",
       "      <th>184710</th>\n",
       "      <td>1703ym6urt1h6r2ywovc9jm7vipougz3ktu3f7d4aoce7g...</td>\n",
       "      <td>Fun Prints!,Holiday Leggings,Valentine's &amp; Mar...</td>\n",
       "      <td>2017-02-23 08:55:22</td>\n",
       "      <td>Lace Hearts</td>\n",
       "      <td>susanm2003@gmail.com</td>\n",
       "      <td>/JnX+WmfJI4b2+NBp7+e81TFoCCSGT8QarGV6f1hHf0=</td>\n",
       "      <td>3.333495e+10</td>\n",
       "      <td>www.charliesproject.com</td>\n",
       "      <td>18c2b9f5-4272-4dea-936e-c102d961d35d</td>\n",
       "      <td>1.0</td>\n",
       "      <td>...</td>\n",
       "      <td>3.0</td>\n",
       "      <td>8.0</td>\n",
       "      <td>Windows PC</td>\n",
       "      <td>Personal computer</td>\n",
       "      <td>Browser</td>\n",
       "      <td>Windows</td>\n",
       "      <td>1.0</td>\n",
       "      <td>10.0</td>\n",
       "      <td>209.0</td>\n",
       "      <td>1.0</td>\n",
       "    </tr>\n",
       "    <tr>\n",
       "      <th>184711</th>\n",
       "      <td>1703ym6urt1h6r2ywovc9jm7vipougz3ktu3f7d4aoce7g...</td>\n",
       "      <td>Animal Prints</td>\n",
       "      <td>2017-02-23 08:56:06</td>\n",
       "      <td>Give a Hoot!</td>\n",
       "      <td>susanm2003@gmail.com</td>\n",
       "      <td>/JnX+WmfJI4b2+NBp7+e81TFoCCSGT8QarGV6f1hHf0=</td>\n",
       "      <td>3.243832e+10</td>\n",
       "      <td>www.charliesproject.com</td>\n",
       "      <td>18c2b9f5-4272-4dea-936e-c102d961d35d</td>\n",
       "      <td>1.0</td>\n",
       "      <td>...</td>\n",
       "      <td>3.0</td>\n",
       "      <td>8.0</td>\n",
       "      <td>Windows PC</td>\n",
       "      <td>Personal computer</td>\n",
       "      <td>Browser</td>\n",
       "      <td>Windows</td>\n",
       "      <td>1.0</td>\n",
       "      <td>44.0</td>\n",
       "      <td>253.0</td>\n",
       "      <td>1.0</td>\n",
       "    </tr>\n",
       "    <tr>\n",
       "      <th>184712</th>\n",
       "      <td>nofsqfyptbo9rc4brvt0qip2w4ay31xricm3ij3rloof4y...</td>\n",
       "      <td>Floral Prints,Fun Prints!</td>\n",
       "      <td>2017-02-23 08:53:35</td>\n",
       "      <td>Black Lace</td>\n",
       "      <td>Unknown</td>\n",
       "      <td>/JnX+WmfJI4b2+NBp7+e81TFoCCSGT8QarGV6f1hHf0=</td>\n",
       "      <td>3.159939e+10</td>\n",
       "      <td>www.charliesproject.com</td>\n",
       "      <td>60934406-bff5-4f73-876a-68762a6047e0</td>\n",
       "      <td>1.0</td>\n",
       "      <td>...</td>\n",
       "      <td>3.0</td>\n",
       "      <td>8.0</td>\n",
       "      <td>Unknown</td>\n",
       "      <td>Unknown</td>\n",
       "      <td>Unknown</td>\n",
       "      <td>Unknown</td>\n",
       "      <td>0.0</td>\n",
       "      <td>0.0</td>\n",
       "      <td>0.0</td>\n",
       "      <td>1.0</td>\n",
       "    </tr>\n",
       "    <tr>\n",
       "      <th>184713</th>\n",
       "      <td>nofsqfyptbo9rc4brvt0qip2w4ay31xricm3ij3rloof4y...</td>\n",
       "      <td>Floral Prints,Paisly Prints</td>\n",
       "      <td>2017-02-23 08:53:53</td>\n",
       "      <td>Medallions</td>\n",
       "      <td>Unknown</td>\n",
       "      <td>/JnX+WmfJI4b2+NBp7+e81TFoCCSGT8QarGV6f1hHf0=</td>\n",
       "      <td>3.159139e+10</td>\n",
       "      <td>www.charliesproject.com</td>\n",
       "      <td>60934406-bff5-4f73-876a-68762a6047e0</td>\n",
       "      <td>1.0</td>\n",
       "      <td>...</td>\n",
       "      <td>3.0</td>\n",
       "      <td>8.0</td>\n",
       "      <td>Unknown</td>\n",
       "      <td>Unknown</td>\n",
       "      <td>Unknown</td>\n",
       "      <td>Unknown</td>\n",
       "      <td>0.0</td>\n",
       "      <td>18.0</td>\n",
       "      <td>18.0</td>\n",
       "      <td>1.0</td>\n",
       "    </tr>\n",
       "  </tbody>\n",
       "</table>\n",
       "<p>5 rows × 22 columns</p>\n",
       "</div>"
      ],
      "text/plain": [
       "                                                sessionid  \\\n",
       "184709  1703ym6urt1h6r2ywovc9jm7vipougz3ktu3f7d4aoce7g...   \n",
       "184710  1703ym6urt1h6r2ywovc9jm7vipougz3ktu3f7d4aoce7g...   \n",
       "184711  1703ym6urt1h6r2ywovc9jm7vipougz3ktu3f7d4aoce7g...   \n",
       "184712  nofsqfyptbo9rc4brvt0qip2w4ay31xricm3ij3rloof4y...   \n",
       "184713  nofsqfyptbo9rc4brvt0qip2w4ay31xricm3ij3rloof4y...   \n",
       "\n",
       "                                                 category         createddate  \\\n",
       "184709  Fun Prints!,Holiday Leggings,Valentine's & Mar... 2017-02-23 08:55:12   \n",
       "184710  Fun Prints!,Holiday Leggings,Valentine's & Mar... 2017-02-23 08:55:22   \n",
       "184711                                      Animal Prints 2017-02-23 08:56:06   \n",
       "184712                          Floral Prints,Fun Prints! 2017-02-23 08:53:35   \n",
       "184713                        Floral Prints,Paisly Prints 2017-02-23 08:53:53   \n",
       "\n",
       "                             pagetitle                userid  \\\n",
       "184709  St. Valentine's Sweater Hearts  susanm2003@gmail.com   \n",
       "184710                     Lace Hearts  susanm2003@gmail.com   \n",
       "184711                    Give a Hoot!  susanm2003@gmail.com   \n",
       "184712                      Black Lace               Unknown   \n",
       "184713                      Medallions               Unknown   \n",
       "\n",
       "                                          providerid     productid  \\\n",
       "184709  /JnX+WmfJI4b2+NBp7+e81TFoCCSGT8QarGV6f1hHf0=  3.309122e+10   \n",
       "184710  /JnX+WmfJI4b2+NBp7+e81TFoCCSGT8QarGV6f1hHf0=  3.333495e+10   \n",
       "184711  /JnX+WmfJI4b2+NBp7+e81TFoCCSGT8QarGV6f1hHf0=  3.243832e+10   \n",
       "184712  /JnX+WmfJI4b2+NBp7+e81TFoCCSGT8QarGV6f1hHf0=  3.159939e+10   \n",
       "184713  /JnX+WmfJI4b2+NBp7+e81TFoCCSGT8QarGV6f1hHf0=  3.159139e+10   \n",
       "\n",
       "                    referrerurl                              deviceid  \\\n",
       "184709  www.charliesproject.com  18c2b9f5-4272-4dea-936e-c102d961d35d   \n",
       "184710  www.charliesproject.com  18c2b9f5-4272-4dea-936e-c102d961d35d   \n",
       "184711  www.charliesproject.com  18c2b9f5-4272-4dea-936e-c102d961d35d   \n",
       "184712  www.charliesproject.com  60934406-bff5-4f73-876a-68762a6047e0   \n",
       "184713  www.charliesproject.com  60934406-bff5-4f73-876a-68762a6047e0   \n",
       "\n",
       "        eventtype     ...      dayofweek  hour  devicecategory  \\\n",
       "184709        1.0     ...            3.0   8.0      Windows PC   \n",
       "184710        1.0     ...            3.0   8.0      Windows PC   \n",
       "184711        1.0     ...            3.0   8.0      Windows PC   \n",
       "184712        1.0     ...            3.0   8.0         Unknown   \n",
       "184713        1.0     ...            3.0   8.0         Unknown   \n",
       "\n",
       "               devicetype agenttype       os hist_ind elapsedtime  \\\n",
       "184709  Personal computer   Browser  Windows      1.0        53.0   \n",
       "184710  Personal computer   Browser  Windows      1.0        10.0   \n",
       "184711  Personal computer   Browser  Windows      1.0        44.0   \n",
       "184712            Unknown   Unknown  Unknown      0.0         0.0   \n",
       "184713            Unknown   Unknown  Unknown      0.0        18.0   \n",
       "\n",
       "        totalelapsedtime  nextaction  \n",
       "184709             199.0         1.0  \n",
       "184710             209.0         1.0  \n",
       "184711             253.0         1.0  \n",
       "184712               0.0         1.0  \n",
       "184713              18.0         1.0  \n",
       "\n",
       "[5 rows x 22 columns]"
      ]
     },
     "execution_count": 184,
     "metadata": {},
     "output_type": "execute_result"
    }
   ],
   "source": [
    "Markov_test.modeling_df.tail()"
   ]
  },
  {
   "cell_type": "code",
   "execution_count": null,
   "metadata": {
    "collapsed": true
   },
   "outputs": [],
   "source": []
  }
 ],
 "metadata": {
  "kernelspec": {
   "display_name": "Python 2",
   "language": "python",
   "name": "python2"
  },
  "language_info": {
   "codemirror_mode": {
    "name": "ipython",
    "version": 2
   },
   "file_extension": ".py",
   "mimetype": "text/x-python",
   "name": "python",
   "nbconvert_exporter": "python",
   "pygments_lexer": "ipython2",
   "version": "2.7.13"
  }
 },
 "nbformat": 4,
 "nbformat_minor": 2
}
