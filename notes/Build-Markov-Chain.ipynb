{
 "cells": [
  {
   "cell_type": "code",
   "execution_count": 26,
   "metadata": {
    "collapsed": true
   },
   "outputs": [],
   "source": [
    "import pandas as pd\n",
    "from itertools import product\n",
    "import numpy as np"
   ]
  },
  {
   "cell_type": "code",
   "execution_count": 27,
   "metadata": {
    "collapsed": false
   },
   "outputs": [
    {
     "name": "stdout",
     "output_type": "stream",
     "text": [
      "Automatic pdb calling has been turned OFF\n"
     ]
    }
   ],
   "source": [
    "%pdb"
   ]
  },
  {
   "cell_type": "code",
   "execution_count": 50,
   "metadata": {
    "collapsed": false
   },
   "outputs": [],
   "source": [
    "def Naive_Markov(filename):\n",
    "    \n",
    "    #Read in Sessions .csv file\n",
    "    session_columns = [\n",
    "        'sessionid',\n",
    "        'category',\n",
    "        'imageurl',\n",
    "        'createddate',\n",
    "        'pagetitle',\n",
    "        'pageurl',\n",
    "        'userid',\n",
    "        'fullurl',\n",
    "        'providerid',\n",
    "        'productid',\n",
    "        'normalizedpageurl',\n",
    "        'rawpageurl',\n",
    "        'referrerurl',\n",
    "        'rawreferrerurl',\n",
    "        'utmsource',\n",
    "        'utmmedium',\n",
    "        'utmcontent',\n",
    "        'utmcampaign',\n",
    "        'utmterm',\n",
    "        'ipaddress',\n",
    "        'deviceid',\n",
    "        'requesttype',\n",
    "        'eventtype',\n",
    "        'quantity',\n",
    "        'price'\n",
    "    ]\n",
    "    session = pd.read_csv(filename, header = None)\n",
    "    session.columns = session_columns\n",
    "    \n",
    "    #Drop unused variables\n",
    "    session.drop(['category','imageurl','pagetitle','pageurl','userid'\n",
    "                 ,'fullurl','providerid','productid','normalizedpageurl'\n",
    "                 ,'rawpageurl','referrerurl','rawreferrerurl','utmsource'\n",
    "                 ,'utmmedium','utmcontent','utmcampaign','utmterm'\n",
    "                 ,'ipaddress','deviceid','requesttype','quantity','price']\n",
    "                 ,axis = 1, inplace = True)\n",
    "    \n",
    "    #Format date/time variables\n",
    "    session['createddate'] = pd.to_datetime(session['createddate'])\n",
    "    \n",
    "    #Drop sessionID NA's, since can't be sure they're always same session\n",
    "    session = session[session['sessionid'].notnull()]\n",
    "    \n",
    "    #Initialize dictionary for possible transition counts\n",
    "    possible_events = [-1, 0, 1, 3, 4, 6, 7, 8, 104, 100]\n",
    "    events_dict = {}\n",
    "    \n",
    "    for i in product(possible_events,repeat=2):\n",
    "        events_dict[i] = 0\n",
    "    \n",
    "    #Create variables for session length in actions and time\n",
    "    session_actions = []\n",
    "    session_times = []\n",
    "    \n",
    "    #Add to transition counts\n",
    "    for j in session['sessionid'].unique():\n",
    "        one_session = session[session['sessionid'] == j].sort_values('createddate')\n",
    "        session_actions.append(one_session.shape[0])\n",
    "        begin = (0,one_session['eventtype'].iloc[0])\n",
    "        end = (one_session['eventtype'].iloc[one_session.shape[0]-1],100)\n",
    "        events_dict[begin] += 1\n",
    "        events_dict[end] += 1\n",
    "        for k in range(one_session.shape[0]-2):\n",
    "            events_dict[(one_session['eventtype'].iloc[k],one_session['eventtype'].iloc[k+1])] += 1\n",
    "    \n",
    "    #convert to numpy matrix of transition counts\n",
    "    events_map = {-1 : 8\n",
    "                  ,0 : 0\n",
    "                  ,1 : 1\n",
    "                  ,3 : 2\n",
    "                  ,4 : 3\n",
    "                  ,6 : 6\n",
    "                  ,7 : 7\n",
    "                  ,8 : 4\n",
    "                  ,100 : 9\n",
    "                  ,104 : 5}\n",
    "   \n",
    "    np_events_dict = {}\n",
    "    for k,v in events_dict.items():\n",
    "        mapped_key = (events_map[k[0]],events_map[k[1]])\n",
    "        np_events_dict[mapped_key] = v\n",
    "    \n",
    "    transition_counts = np.zeros((len(possible_events),len(possible_events)))\n",
    "    for x,y in np_events_dict.items():\n",
    "        transition_counts[x[0]][x[1]] = y\n",
    "    \n",
    "    #Convert to transition probability matrix\n",
    "    transition_counts[9][9] = 1\n",
    "    transition_probs = transition_counts.astype(float) / transition_counts.sum(axis = 1,keepdims = True)\n",
    "        \n",
    "    return transition_probs, session_actions"
   ]
  },
  {
   "cell_type": "code",
   "execution_count": 51,
   "metadata": {
    "collapsed": false
   },
   "outputs": [],
   "source": [
    "a, b = Naive_Markov('data/session_data_sample_030113.csv')"
   ]
  },
  {
   "cell_type": "code",
   "execution_count": 53,
   "metadata": {
    "collapsed": false
   },
   "outputs": [
    {
     "data": {
      "text/plain": [
       "array([[ 1.],\n",
       "       [ 1.],\n",
       "       [ 1.],\n",
       "       [ 1.],\n",
       "       [ 1.],\n",
       "       [ 1.],\n",
       "       [ 1.],\n",
       "       [ 1.],\n",
       "       [ 1.],\n",
       "       [ 1.]])"
      ]
     },
     "execution_count": 53,
     "metadata": {},
     "output_type": "execute_result"
    }
   ],
   "source": [
    "a.sum(axis = 1,keepdims = True)"
   ]
  },
  {
   "cell_type": "code",
   "execution_count": 54,
   "metadata": {
    "collapsed": false
   },
   "outputs": [
    {
     "name": "stdout",
     "output_type": "stream",
     "text": [
      "32489 3.0849210502\n"
     ]
    }
   ],
   "source": [
    "print len(b), np.mean(b)"
   ]
  },
  {
   "cell_type": "code",
   "execution_count": null,
   "metadata": {
    "collapsed": true
   },
   "outputs": [],
   "source": [
    "events_desc = {\n",
    "    -1: 'Delete from Wishlist'\n",
    "    1: 'Page View'\n",
    "    3: 'Add to Cart'\n",
    "    4: 'Add to Wishlist'\n",
    "    6: 'Purchase'\n",
    "    7: 'Remove from Cart'\n",
    "    8: 'Add to Watchlist'\n",
    "    104: 'Begin Checkout'\n",
    "}"
   ]
  },
  {
   "cell_type": "code",
   "execution_count": 65,
   "metadata": {
    "collapsed": false
   },
   "outputs": [],
   "source": [
    "%run 'Markovify.py'"
   ]
  },
  {
   "cell_type": "code",
   "execution_count": 79,
   "metadata": {
    "collapsed": false
   },
   "outputs": [
    {
     "data": {
      "text/plain": [
       "array([0, 0, 0, 0, 4, 5, 6, 7])"
      ]
     },
     "execution_count": 79,
     "metadata": {},
     "output_type": "execute_result"
    }
   ],
   "source": [
    "np.argmax(test.Markov_mat,axis=1)"
   ]
  },
  {
   "cell_type": "code",
   "execution_count": 67,
   "metadata": {
    "collapsed": false
   },
   "outputs": [
    {
     "name": "stdout",
     "output_type": "stream",
     "text": [
      "32489 3.0849210502\n"
     ]
    }
   ],
   "source": [
    "print len(test.action_counts), np.mean(test.action_counts)"
   ]
  },
  {
   "cell_type": "code",
   "execution_count": 78,
   "metadata": {
    "collapsed": false
   },
   "outputs": [
    {
     "name": "stdout",
     "output_type": "stream",
     "text": [
      "Begin Checkout\n",
      "Begin Checkout\n",
      "Begin Checkout\n",
      "Begin Checkout\n",
      "Begin Checkout\n"
     ]
    }
   ],
   "source": [
    "test.current_state = 104\n",
    "for i in range (5):\n",
    "    print(test.predict_next())"
   ]
  },
  {
   "cell_type": "code",
   "execution_count": 82,
   "metadata": {
    "collapsed": false
   },
   "outputs": [],
   "source": [
    "possible_events = [-1, 1, 3, 4, 6, 7, 8, 104]\n",
    "events_desc = {\n",
    "            -1: 'Delete from Wishlist'\n",
    "            ,1: 'Page View'\n",
    "            ,3: 'Add to Cart'\n",
    "            ,4: 'Add to Wishlist'\n",
    "            ,6: 'Purchase'\n",
    "            ,7: 'Remove from Cart'\n",
    "            ,8: 'Add to Watchlist'\n",
    "            ,104: 'Begin Checkout'\n",
    "            ,0: 'Session Start'\n",
    "            ,100: 'Session End'\n",
    "}\n",
    "events_row_map = {\n",
    "            -1 : 7\n",
    "            ,1 : 0\n",
    "            ,3 : 1\n",
    "            ,4 : 2\n",
    "            ,6 : 5\n",
    "            ,7 : 6\n",
    "            ,8 : 3\n",
    "            ,104 : 4\n",
    "        }"
   ]
  },
  {
   "cell_type": "code",
   "execution_count": 89,
   "metadata": {
    "collapsed": true
   },
   "outputs": [],
   "source": [
    "def pred_next(current_state):\n",
    "    current_mat = np.zeros(len(possible_events))\n",
    "    current_mat[events_row_map[current_state]] = 1\n",
    "    result = (current_mat * test.Markov_mat.T).T\n",
    "    max_idx = result.argmax()\n",
    "    idx_tup = np.unravel_index(max_idx, result.shape)\n",
    "    current_state = [key for key, value in events_row_map.items() if value == idx_tup[1]][0]\n",
    "    return current_state"
   ]
  },
  {
   "cell_type": "code",
   "execution_count": 95,
   "metadata": {
    "collapsed": false
   },
   "outputs": [
    {
     "name": "stdout",
     "output_type": "stream",
     "text": [
      "6\n",
      "6\n",
      "6\n",
      "6\n",
      "6\n"
     ]
    }
   ],
   "source": [
    "current_state = 6\n",
    "for i in range(5):\n",
    "    current_state = pred_next(current_state)\n",
    "    print current_state"
   ]
  },
  {
   "cell_type": "code",
   "execution_count": 112,
   "metadata": {
    "collapsed": false
   },
   "outputs": [
    {
     "name": "stdout",
     "output_type": "stream",
     "text": [
      "[0 0 0 0 4 5 6 7]\n",
      "[0 0 0 0 4 5 0 7]\n",
      "[0 0 0 0 4 5 0 7]\n",
      "[0 0 0 0 5 5 0 7]\n",
      "[0 0 0 0 5 5 0 7]\n",
      "[0 0 0 0 5 5 0 7]\n",
      "[0 0 0 0 5 5 0 0]\n",
      "[0 0 0 0 5 5 0 0]\n",
      "[0 0 0 0 5 5 0 0]\n",
      "[0 0 0 0 0 5 0 0]\n"
     ]
    }
   ],
   "source": [
    "from numpy import linalg as LA\n",
    "for i in range(10):\n",
    "    print LA.matrix_power(test.Markov_mat,i+1).argmax(axis = 1)"
   ]
  },
  {
   "cell_type": "code",
   "execution_count": null,
   "metadata": {
    "collapsed": true
   },
   "outputs": [],
   "source": []
  }
 ],
 "metadata": {
  "kernelspec": {
   "display_name": "Python 2",
   "language": "python",
   "name": "python2"
  },
  "language_info": {
   "codemirror_mode": {
    "name": "ipython",
    "version": 2
   },
   "file_extension": ".py",
   "mimetype": "text/x-python",
   "name": "python",
   "nbconvert_exporter": "python",
   "pygments_lexer": "ipython2",
   "version": "2.7.13"
  }
 },
 "nbformat": 4,
 "nbformat_minor": 2
}
