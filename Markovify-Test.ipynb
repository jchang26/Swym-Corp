{
 "cells": [
  {
   "cell_type": "code",
   "execution_count": 55,
   "metadata": {
    "collapsed": false
   },
   "outputs": [],
   "source": [
    "%run Markovify.py"
   ]
  },
  {
   "cell_type": "code",
   "execution_count": 57,
   "metadata": {
    "collapsed": false
   },
   "outputs": [
    {
     "name": "stdout",
     "output_type": "stream",
     "text": [
      "(13757, 366)\n"
     ]
    },
    {
     "data": {
      "text/plain": [
       "0.69014562948876779"
      ]
     },
     "execution_count": 57,
     "metadata": {},
     "output_type": "execute_result"
    }
   ],
   "source": [
    "print example.swym_x.shape\n",
    "example.rfc_score()"
   ]
  },
  {
   "cell_type": "code",
   "execution_count": 8,
   "metadata": {
    "collapsed": false
   },
   "outputs": [
    {
     "name": "stdout",
     "output_type": "stream",
     "text": [
      "0.699295046695\n"
     ]
    },
    {
     "name": "stderr",
     "output_type": "stream",
     "text": [
      "/home/jjc/anaconda2/lib/python2.7/site-packages/sklearn/model_selection/_split.py:581: Warning: The least populated class in y has only 2 members, which is too few. The minimum number of groups for any class cannot be less than n_splits=5.\n",
      "  % (min_groups, self.n_splits)), Warning)\n"
     ]
    },
    {
     "name": "stdout",
     "output_type": "stream",
     "text": [
      "0.702770720948\n",
      "0.718415562676\n",
      "0.723642164579\n"
     ]
    }
   ],
   "source": [
    "for i in range(4):\n",
    "    test = Markovify(order = i+1)\n",
    "    test.load_swym_data('data/session_data_sample_030113.csv', 'data/devices_data_sample_030113.csv')\n",
    "    print test.rfc_score()"
   ]
  },
  {
   "cell_type": "code",
   "execution_count": 9,
   "metadata": {
    "collapsed": false
   },
   "outputs": [
    {
     "name": "stdout",
     "output_type": "stream",
     "text": [
      "0.718487398113\n"
     ]
    }
   ],
   "source": [
    "test = Markovify(order = 5)\n",
    "test.load_swym_data('data/session_data_sample_030113.csv', 'data/devices_data_sample_030113.csv')\n",
    "print test.rfc_score()"
   ]
  },
  {
   "cell_type": "code",
   "execution_count": 10,
   "metadata": {
    "collapsed": false
   },
   "outputs": [
    {
     "name": "stdout",
     "output_type": "stream",
     "text": [
      "0.737955929034\n"
     ]
    }
   ],
   "source": [
    "test = Markovify(order = 6)\n",
    "test.load_swym_data('data/session_data_sample_030113.csv', 'data/devices_data_sample_030113.csv')\n",
    "print test.rfc_score()"
   ]
  },
  {
   "cell_type": "code",
   "execution_count": 48,
   "metadata": {
    "collapsed": false
   },
   "outputs": [],
   "source": [
    "from sklearn.feature_extraction.text import TfidfVectorizer\n",
    "from sklearn.model_selection import cross_val_score\n",
    "from sklearn.ensemble import RandomForestClassifier\n",
    "import numpy as np\n",
    "\n",
    "example = Markovify()\n",
    "example.load_swym_data('data/session_data_sample_030113.csv', 'data/devices_data_sample_030113.csv')\n",
    "\n",
    "category_gs = example.modeling_df['category']\n",
    "y = example.swym_y"
   ]
  },
  {
   "cell_type": "code",
   "execution_count": 49,
   "metadata": {
    "collapsed": false
   },
   "outputs": [
    {
     "name": "stdout",
     "output_type": "stream",
     "text": [
      "(67737, 4342) 0.707162280855\n"
     ]
    }
   ],
   "source": [
    "tfidf = TfidfVectorizer(stop_words = 'english')\n",
    "x = tfidf.fit_transform(category_gs)\n",
    "rfc = RandomForestClassifier()\n",
    "print x.shape, np.mean(cross_val_score(rfc,x,y,cv=5))"
   ]
  },
  {
   "cell_type": "code",
   "execution_count": 50,
   "metadata": {
    "collapsed": false,
    "scrolled": true
   },
   "outputs": [
    {
     "name": "stdout",
     "output_type": "stream",
     "text": [
      "100 0.714927343392\n",
      "200 0.712786362406\n",
      "300 0.710690132676\n",
      "400 0.710114539231\n",
      "500 0.708844886441\n",
      "600 0.708136535607\n",
      "700 0.707516493874\n",
      "800 0.707930078808\n",
      "900 0.706748758074\n",
      "1000 0.707428097593\n",
      "1100 0.70804794639\n",
      "1200 0.70790043864\n",
      "1300 0.706675248319\n",
      "1400 0.706187784182\n",
      "1500 0.707103294773\n",
      "1600 0.707236198218\n",
      "1700 0.706261873741\n",
      "1800 0.706335546968\n",
      "1900 0.706867049562\n",
      "2000 0.709273365568\n",
      "2100 0.706572032982\n",
      "2200 0.708623812317\n",
      "2300 0.705287787904\n",
      "2400 0.705715628368\n",
      "2500 0.706070007065\n",
      "2600 0.706793400329\n",
      "2700 0.706822735344\n",
      "2800 0.706453707694\n",
      "2900 0.706055280723\n",
      "3000 0.707442631026\n",
      "3100 0.706911307113\n",
      "3200 0.706852367893\n",
      "3300 0.707797023882\n",
      "3400 0.706350529422\n",
      "3500 0.706512985858\n",
      "3600 0.706660465275\n",
      "3700 0.707117865282\n",
      "3800 0.707664134602\n",
      "3900 0.707147421532\n",
      "4000 0.706379672631\n",
      "4100 0.706881756329\n",
      "4200 0.705656441728\n",
      "4300 0.706807920689\n",
      "4400 0.708121623973\n",
      "4500 0.708165893534\n",
      "4600 0.706099629797\n",
      "4700 0.707059105877\n",
      "4800 0.706926169725\n",
      "4900 0.706483100471\n",
      "5000 0.706793205252\n"
     ]
    }
   ],
   "source": [
    "max_features = np.linspace(100,5000,50).astype(int)\n",
    "\n",
    "for i in max_features:\n",
    "    tfidf = TfidfVectorizer(stop_words = 'english', max_features = i)\n",
    "    x = tfidf.fit_transform(category_gs)\n",
    "    rfc = RandomForestClassifier()\n",
    "    print i, np.mean(cross_val_score(rfc,x,y,cv=5))\n"
   ]
  },
  {
   "cell_type": "code",
   "execution_count": 52,
   "metadata": {
    "collapsed": false
   },
   "outputs": [
    {
     "name": "stdout",
     "output_type": "stream",
     "text": [
      "(67737, 10) 0.715753933438\n"
     ]
    }
   ],
   "source": [
    "tfidf = TfidfVectorizer(stop_words = 'english', max_features=10)\n",
    "x = tfidf.fit_transform(category_gs)\n",
    "rfc = RandomForestClassifier()\n",
    "print x.shape, np.mean(cross_val_score(rfc,x,y,cv=5))"
   ]
  },
  {
   "cell_type": "code",
   "execution_count": 53,
   "metadata": {
    "collapsed": false
   },
   "outputs": [
    {
     "data": {
      "text/plain": [
       "[u'arrivals',\n",
       " u'best',\n",
       " u'business',\n",
       " u'cases',\n",
       " u'inches',\n",
       " u'new',\n",
       " u'prints',\n",
       " u'products',\n",
       " u'tools',\n",
       " u'women']"
      ]
     },
     "execution_count": 53,
     "metadata": {},
     "output_type": "execute_result"
    }
   ],
   "source": [
    "tfidf.get_feature_names()"
   ]
  },
  {
   "cell_type": "code",
   "execution_count": null,
   "metadata": {
    "collapsed": true
   },
   "outputs": [],
   "source": []
  }
 ],
 "metadata": {
  "kernelspec": {
   "display_name": "Python 2",
   "language": "python",
   "name": "python2"
  },
  "language_info": {
   "codemirror_mode": {
    "name": "ipython",
    "version": 2
   },
   "file_extension": ".py",
   "mimetype": "text/x-python",
   "name": "python",
   "nbconvert_exporter": "python",
   "pygments_lexer": "ipython2",
   "version": "2.7.13"
  }
 },
 "nbformat": 4,
 "nbformat_minor": 2
}
