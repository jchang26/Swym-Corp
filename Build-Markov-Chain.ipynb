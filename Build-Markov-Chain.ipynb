{
 "cells": [
  {
   "cell_type": "code",
   "execution_count": 26,
   "metadata": {
    "collapsed": true
   },
   "outputs": [],
   "source": [
    "import pandas as pd\n",
    "from itertools import product\n",
    "import numpy as np"
   ]
  },
  {
   "cell_type": "code",
   "execution_count": 27,
   "metadata": {
    "collapsed": false
   },
   "outputs": [
    {
     "name": "stdout",
     "output_type": "stream",
     "text": [
      "Automatic pdb calling has been turned OFF\n"
     ]
    }
   ],
   "source": [
    "%pdb"
   ]
  },
  {
   "cell_type": "code",
   "execution_count": 50,
   "metadata": {
    "collapsed": false
   },
   "outputs": [],
   "source": [
    "def Naive_Markov(filename):\n",
    "    \n",
    "    #Read in Sessions .csv file\n",
    "    session_columns = [\n",
    "        'sessionid',\n",
    "        'category',\n",
    "        'imageurl',\n",
    "        'createddate',\n",
    "        'pagetitle',\n",
    "        'pageurl',\n",
    "        'userid',\n",
    "        'fullurl',\n",
    "        'providerid',\n",
    "        'productid',\n",
    "        'normalizedpageurl',\n",
    "        'rawpageurl',\n",
    "        'referrerurl',\n",
    "        'rawreferrerurl',\n",
    "        'utmsource',\n",
    "        'utmmedium',\n",
    "        'utmcontent',\n",
    "        'utmcampaign',\n",
    "        'utmterm',\n",
    "        'ipaddress',\n",
    "        'deviceid',\n",
    "        'requesttype',\n",
    "        'eventtype',\n",
    "        'quantity',\n",
    "        'price'\n",
    "    ]\n",
    "    session = pd.read_csv(filename, header = None)\n",
    "    session.columns = session_columns\n",
    "    \n",
    "    #Drop unused variables\n",
    "    session.drop(['category','imageurl','pagetitle','pageurl','userid'\n",
    "                 ,'fullurl','providerid','productid','normalizedpageurl'\n",
    "                 ,'rawpageurl','referrerurl','rawreferrerurl','utmsource'\n",
    "                 ,'utmmedium','utmcontent','utmcampaign','utmterm'\n",
    "                 ,'ipaddress','deviceid','requesttype','quantity','price']\n",
    "                 ,axis = 1, inplace = True)\n",
    "    \n",
    "    #Format date/time variables\n",
    "    session['createddate'] = pd.to_datetime(session['createddate'])\n",
    "    \n",
    "    #Drop sessionID NA's, since can't be sure they're always same session\n",
    "    session = session[session['sessionid'].notnull()]\n",
    "    \n",
    "    #Initialize dictionary for possible transition counts\n",
    "    possible_events = [-1, 0, 1, 3, 4, 6, 7, 8, 104, 100]\n",
    "    events_dict = {}\n",
    "    \n",
    "    for i in product(possible_events,repeat=2):\n",
    "        events_dict[i] = 0\n",
    "    \n",
    "    #Create variables for session length in actions and time\n",
    "    session_actions = []\n",
    "    session_times = []\n",
    "    \n",
    "    #Add to transition counts\n",
    "    for j in session['sessionid'].unique():\n",
    "        one_session = session[session['sessionid'] == j].sort_values('createddate')\n",
    "        session_actions.append(one_session.shape[0])\n",
    "        begin = (0,one_session['eventtype'].iloc[0])\n",
    "        end = (one_session['eventtype'].iloc[one_session.shape[0]-1],100)\n",
    "        events_dict[begin] += 1\n",
    "        events_dict[end] += 1\n",
    "        for k in range(one_session.shape[0]-2):\n",
    "            events_dict[(one_session['eventtype'].iloc[k],one_session['eventtype'].iloc[k+1])] += 1\n",
    "    \n",
    "    #convert to numpy matrix of transition counts\n",
    "    events_map = {-1 : 8\n",
    "                  ,0 : 0\n",
    "                  ,1 : 1\n",
    "                  ,3 : 2\n",
    "                  ,4 : 3\n",
    "                  ,6 : 6\n",
    "                  ,7 : 7\n",
    "                  ,8 : 4\n",
    "                  ,100 : 9\n",
    "                  ,104 : 5}\n",
    "   \n",
    "    np_events_dict = {}\n",
    "    for k,v in events_dict.items():\n",
    "        mapped_key = (events_map[k[0]],events_map[k[1]])\n",
    "        np_events_dict[mapped_key] = v\n",
    "    \n",
    "    transition_counts = np.zeros((len(possible_events),len(possible_events)))\n",
    "    for x,y in np_events_dict.items():\n",
    "        transition_counts[x[0]][x[1]] = y\n",
    "    \n",
    "    #Convert to transition probability matrix\n",
    "    transition_counts[9][9] = 1\n",
    "    transition_probs = transition_counts.astype(float) / transition_counts.sum(axis = 1,keepdims = True)\n",
    "        \n",
    "    return transition_probs, session_actions"
   ]
  },
  {
   "cell_type": "code",
   "execution_count": 51,
   "metadata": {
    "collapsed": false
   },
   "outputs": [],
   "source": [
    "a, b = Naive_Markov('data/session_data_sample_030113.csv')"
   ]
  },
  {
   "cell_type": "code",
   "execution_count": 53,
   "metadata": {
    "collapsed": false
   },
   "outputs": [
    {
     "data": {
      "text/plain": [
       "array([[ 1.],\n",
       "       [ 1.],\n",
       "       [ 1.],\n",
       "       [ 1.],\n",
       "       [ 1.],\n",
       "       [ 1.],\n",
       "       [ 1.],\n",
       "       [ 1.],\n",
       "       [ 1.],\n",
       "       [ 1.]])"
      ]
     },
     "execution_count": 53,
     "metadata": {},
     "output_type": "execute_result"
    }
   ],
   "source": [
    "a.sum(axis = 1,keepdims = True)"
   ]
  },
  {
   "cell_type": "code",
   "execution_count": 54,
   "metadata": {
    "collapsed": false
   },
   "outputs": [
    {
     "name": "stdout",
     "output_type": "stream",
     "text": [
      "32489 3.0849210502\n"
     ]
    }
   ],
   "source": [
    "print len(b), np.mean(b)"
   ]
  },
  {
   "cell_type": "code",
   "execution_count": null,
   "metadata": {
    "collapsed": true
   },
   "outputs": [],
   "source": [
    "events_desc = {\n",
    "    -1: 'Delete from Wishlist'\n",
    "    1: 'Page View'\n",
    "    3: 'Add to Cart'\n",
    "    4: 'Add to Wishlist'\n",
    "    6: 'Purchase'\n",
    "    7: 'Remove from Cart'\n",
    "    8: 'Add to Watchlist'\n",
    "    104: 'Begin Checkout'\n",
    "}"
   ]
  },
  {
   "cell_type": "code",
   "execution_count": 3,
   "metadata": {
    "collapsed": false
   },
   "outputs": [],
   "source": [
    "%run 'Markovify.py'"
   ]
  },
  {
   "cell_type": "code",
   "execution_count": 4,
   "metadata": {
    "collapsed": false
   },
   "outputs": [
    {
     "data": {
      "text/plain": [
       "array([[  0.00000000e+00,   9.77592416e-01,   1.09575549e-02,\n",
       "          4.58616763e-03,   0.00000000e+00,   1.56976207e-03,\n",
       "          1.35430453e-03,   3.69355782e-03,   2.46237188e-04,\n",
       "          0.00000000e+00],\n",
       "       [  0.00000000e+00,   4.62056021e-01,   8.60092405e-02,\n",
       "          1.45105400e-02,   1.44383483e-05,   5.60207912e-03,\n",
       "          1.22725960e-03,   4.92347675e-03,   8.95177592e-04,\n",
       "          4.24761767e-01],\n",
       "       [  0.00000000e+00,   5.41877023e-01,   1.47572816e-01,\n",
       "          7.89644013e-03,   0.00000000e+00,   1.09644013e-01,\n",
       "          6.60194175e-03,   6.29126214e-02,   1.55339806e-03,\n",
       "          1.21941748e-01],\n",
       "       [  0.00000000e+00,   4.08353808e-01,   5.40540541e-02,\n",
       "          3.85257985e-01,   0.00000000e+00,   1.96560197e-03,\n",
       "          4.91400491e-04,   4.91400491e-03,   1.52334152e-02,\n",
       "          1.29729730e-01],\n",
       "       [  0.00000000e+00,   1.42857143e-01,   0.00000000e+00,\n",
       "          0.00000000e+00,   0.00000000e+00,   0.00000000e+00,\n",
       "          0.00000000e+00,   0.00000000e+00,   0.00000000e+00,\n",
       "          8.57142857e-01],\n",
       "       [  0.00000000e+00,   6.37681159e-02,   3.54267311e-03,\n",
       "          3.22061192e-04,   0.00000000e+00,   5.75523349e-01,\n",
       "          1.43317230e-01,   2.02898551e-02,   3.22061192e-04,\n",
       "          1.92914654e-01],\n",
       "       [  0.00000000e+00,   3.80673499e-02,   4.88042948e-04,\n",
       "          4.88042948e-04,   0.00000000e+00,   0.00000000e+00,\n",
       "          4.80722304e-01,   0.00000000e+00,   0.00000000e+00,\n",
       "          4.80234261e-01],\n",
       "       [  0.00000000e+00,   2.77947465e-01,   8.55222969e-02,\n",
       "          4.88698839e-03,   0.00000000e+00,   7.88026878e-02,\n",
       "          2.38240684e-02,   3.75687233e-01,   1.22174710e-03,\n",
       "          1.52107514e-01],\n",
       "       [  0.00000000e+00,   8.61111111e-02,   2.63888889e-02,\n",
       "          8.33333333e-03,   0.00000000e+00,   4.16666667e-03,\n",
       "          0.00000000e+00,   4.16666667e-03,   8.34722222e-01,\n",
       "          3.61111111e-02],\n",
       "       [  0.00000000e+00,   0.00000000e+00,   0.00000000e+00,\n",
       "          0.00000000e+00,   0.00000000e+00,   0.00000000e+00,\n",
       "          0.00000000e+00,   0.00000000e+00,   0.00000000e+00,\n",
       "          1.00000000e+00]])"
      ]
     },
     "execution_count": 4,
     "metadata": {},
     "output_type": "execute_result"
    }
   ],
   "source": [
    "test.Markov_mat"
   ]
  },
  {
   "cell_type": "code",
   "execution_count": 7,
   "metadata": {
    "collapsed": false
   },
   "outputs": [
    {
     "name": "stdout",
     "output_type": "stream",
     "text": [
      "32489 3.0849210502\n"
     ]
    }
   ],
   "source": [
    "print len(test.action_counts), np.mean(test.action_counts)"
   ]
  },
  {
   "cell_type": "code",
   "execution_count": null,
   "metadata": {
    "collapsed": true
   },
   "outputs": [],
   "source": []
  }
 ],
 "metadata": {
  "kernelspec": {
   "display_name": "Python 2",
   "language": "python",
   "name": "python2"
  },
  "language_info": {
   "codemirror_mode": {
    "name": "ipython",
    "version": 2
   },
   "file_extension": ".py",
   "mimetype": "text/x-python",
   "name": "python",
   "nbconvert_exporter": "python",
   "pygments_lexer": "ipython2",
   "version": "2.7.13"
  }
 },
 "nbformat": 4,
 "nbformat_minor": 2
}
