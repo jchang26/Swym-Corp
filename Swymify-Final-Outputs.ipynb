{
 "cells": [
  {
   "cell_type": "code",
   "execution_count": 51,
   "metadata": {
    "collapsed": false
   },
   "outputs": [
    {
     "ename": "KeyboardInterrupt",
     "evalue": "",
     "output_type": "error",
     "traceback": [
      "\u001b[0;31m---------------------------------------------------------------------------\u001b[0m",
      "\u001b[0;31mKeyboardInterrupt\u001b[0m                         Traceback (most recent call last)",
      "\u001b[0;32m/home/jjc/Documents/GitHub/swym-corp/Swymify.py\u001b[0m in \u001b[0;36m<module>\u001b[0;34m()\u001b[0m\n\u001b[1;32m    496\u001b[0m     '''\n\u001b[1;32m    497\u001b[0m     \u001b[0mexample\u001b[0m \u001b[0;34m=\u001b[0m \u001b[0mSwymify\u001b[0m\u001b[0;34m(\u001b[0m\u001b[0;34m)\u001b[0m\u001b[0;34m\u001b[0m\u001b[0m\n\u001b[0;32m--> 498\u001b[0;31m     \u001b[0mexample\u001b[0m\u001b[0;34m.\u001b[0m\u001b[0mswym_load_data\u001b[0m\u001b[0;34m(\u001b[0m\u001b[0;34m'data/session_data_training_feb.csv'\u001b[0m\u001b[0;34m,\u001b[0m \u001b[0;34m'data/devices_data_training_feb.csv'\u001b[0m\u001b[0;34m)\u001b[0m\u001b[0;34m\u001b[0m\u001b[0m\n\u001b[0m\u001b[1;32m    499\u001b[0m     \u001b[0;32mprint\u001b[0m \u001b[0mexample\u001b[0m\u001b[0;34m.\u001b[0m\u001b[0mrfc_test\u001b[0m\u001b[0;34m(\u001b[0m\u001b[0;34m)\u001b[0m\u001b[0;34m\u001b[0m\u001b[0m\n\u001b[1;32m    500\u001b[0m     \u001b[0mexample\u001b[0m\u001b[0;34m.\u001b[0m\u001b[0mrfc_fit\u001b[0m\u001b[0;34m(\u001b[0m\u001b[0;34m)\u001b[0m\u001b[0;34m\u001b[0m\u001b[0m\n",
      "\u001b[0;32m/home/jjc/Documents/GitHub/swym-corp/Swymify.py\u001b[0m in \u001b[0;36mswym_load_data\u001b[0;34m(self, session_path, device_path)\u001b[0m\n\u001b[1;32m    398\u001b[0m             \u001b[0mdf\u001b[0m \u001b[0;34m=\u001b[0m \u001b[0mself\u001b[0m\u001b[0;34m.\u001b[0m\u001b[0mswym_subset_data\u001b[0m\u001b[0;34m(\u001b[0m\u001b[0mdf\u001b[0m\u001b[0;34m)\u001b[0m\u001b[0;34m\u001b[0m\u001b[0m\n\u001b[1;32m    399\u001b[0m         \u001b[0;31m#Add on next action predicted variable and prior actions if applicable\u001b[0m\u001b[0;34m\u001b[0m\u001b[0;34m\u001b[0m\u001b[0m\n\u001b[0;32m--> 400\u001b[0;31m         \u001b[0mself\u001b[0m\u001b[0;34m.\u001b[0m\u001b[0mmodeling_df\u001b[0m \u001b[0;34m=\u001b[0m \u001b[0mself\u001b[0m\u001b[0;34m.\u001b[0m\u001b[0mswym_next_action\u001b[0m\u001b[0;34m(\u001b[0m\u001b[0mdf\u001b[0m\u001b[0;34m)\u001b[0m\u001b[0;34m\u001b[0m\u001b[0m\n\u001b[0m\u001b[1;32m    401\u001b[0m         \u001b[0;31m#Replace categorical variables with dummies\u001b[0m\u001b[0;34m\u001b[0m\u001b[0;34m\u001b[0m\u001b[0m\n\u001b[1;32m    402\u001b[0m         \u001b[0mdf\u001b[0m \u001b[0;34m=\u001b[0m \u001b[0mself\u001b[0m\u001b[0;34m.\u001b[0m\u001b[0mswym_dummy_featurize\u001b[0m\u001b[0;34m(\u001b[0m\u001b[0mself\u001b[0m\u001b[0;34m.\u001b[0m\u001b[0mmodeling_df\u001b[0m\u001b[0;34m)\u001b[0m\u001b[0;34m\u001b[0m\u001b[0m\n",
      "\u001b[0;32m/home/jjc/Documents/GitHub/swym-corp/Swymify.py\u001b[0m in \u001b[0;36mswym_next_action\u001b[0;34m(self, data)\u001b[0m\n\u001b[1;32m    187\u001b[0m         \u001b[0;31m#Prior actions depending on order of class\u001b[0m\u001b[0;34m\u001b[0m\u001b[0;34m\u001b[0m\u001b[0m\n\u001b[1;32m    188\u001b[0m         \u001b[0;32mfor\u001b[0m \u001b[0mi\u001b[0m \u001b[0;32min\u001b[0m \u001b[0mdf\u001b[0m\u001b[0;34m[\u001b[0m\u001b[0;34m'sessionid'\u001b[0m\u001b[0;34m]\u001b[0m\u001b[0;34m.\u001b[0m\u001b[0munique\u001b[0m\u001b[0;34m(\u001b[0m\u001b[0;34m)\u001b[0m\u001b[0;34m:\u001b[0m\u001b[0;34m\u001b[0m\u001b[0m\n\u001b[0;32m--> 189\u001b[0;31m             \u001b[0mone_session\u001b[0m \u001b[0;34m=\u001b[0m \u001b[0mdf\u001b[0m\u001b[0;34m[\u001b[0m\u001b[0mdf\u001b[0m\u001b[0;34m[\u001b[0m\u001b[0;34m'sessionid'\u001b[0m\u001b[0;34m]\u001b[0m \u001b[0;34m==\u001b[0m \u001b[0mi\u001b[0m\u001b[0;34m]\u001b[0m\u001b[0;34m.\u001b[0m\u001b[0msort_values\u001b[0m\u001b[0;34m(\u001b[0m\u001b[0;34m'createddate'\u001b[0m\u001b[0;34m)\u001b[0m\u001b[0;34m\u001b[0m\u001b[0m\n\u001b[0m\u001b[1;32m    190\u001b[0m             \u001b[0melapsedtime\u001b[0m \u001b[0;34m=\u001b[0m \u001b[0mnp\u001b[0m\u001b[0;34m.\u001b[0m\u001b[0mzeros\u001b[0m\u001b[0;34m(\u001b[0m\u001b[0mone_session\u001b[0m\u001b[0;34m.\u001b[0m\u001b[0mshape\u001b[0m\u001b[0;34m[\u001b[0m\u001b[0;36m0\u001b[0m\u001b[0;34m]\u001b[0m\u001b[0;34m,\u001b[0m\u001b[0mdtype\u001b[0m \u001b[0;34m=\u001b[0m \u001b[0mint\u001b[0m\u001b[0;34m)\u001b[0m\u001b[0;34m\u001b[0m\u001b[0m\n\u001b[1;32m    191\u001b[0m             \u001b[0mtotalelapsedtime\u001b[0m \u001b[0;34m=\u001b[0m \u001b[0mnp\u001b[0m\u001b[0;34m.\u001b[0m\u001b[0mzeros\u001b[0m\u001b[0;34m(\u001b[0m\u001b[0mone_session\u001b[0m\u001b[0;34m.\u001b[0m\u001b[0mshape\u001b[0m\u001b[0;34m[\u001b[0m\u001b[0;36m0\u001b[0m\u001b[0;34m]\u001b[0m\u001b[0;34m,\u001b[0m\u001b[0mdtype\u001b[0m \u001b[0;34m=\u001b[0m \u001b[0mint\u001b[0m\u001b[0;34m)\u001b[0m\u001b[0;34m\u001b[0m\u001b[0m\n",
      "\u001b[0;32m/home/jjc/anaconda2/lib/python2.7/site-packages/pandas/core/ops.pyc\u001b[0m in \u001b[0;36mwrapper\u001b[0;34m(self, other, axis)\u001b[0m\n\u001b[1;32m    853\u001b[0m \u001b[0;34m\u001b[0m\u001b[0m\n\u001b[1;32m    854\u001b[0m             \u001b[0;32mwith\u001b[0m \u001b[0mnp\u001b[0m\u001b[0;34m.\u001b[0m\u001b[0merrstate\u001b[0m\u001b[0;34m(\u001b[0m\u001b[0mall\u001b[0m\u001b[0;34m=\u001b[0m\u001b[0;34m'ignore'\u001b[0m\u001b[0;34m)\u001b[0m\u001b[0;34m:\u001b[0m\u001b[0;34m\u001b[0m\u001b[0m\n\u001b[0;32m--> 855\u001b[0;31m                 \u001b[0mres\u001b[0m \u001b[0;34m=\u001b[0m \u001b[0mna_op\u001b[0m\u001b[0;34m(\u001b[0m\u001b[0mvalues\u001b[0m\u001b[0;34m,\u001b[0m \u001b[0mother\u001b[0m\u001b[0;34m)\u001b[0m\u001b[0;34m\u001b[0m\u001b[0m\n\u001b[0m\u001b[1;32m    856\u001b[0m             \u001b[0;32mif\u001b[0m \u001b[0misscalar\u001b[0m\u001b[0;34m(\u001b[0m\u001b[0mres\u001b[0m\u001b[0;34m)\u001b[0m\u001b[0;34m:\u001b[0m\u001b[0;34m\u001b[0m\u001b[0m\n\u001b[1;32m    857\u001b[0m                 raise TypeError('Could not compare %s type with Series' %\n",
      "\u001b[0;32m/home/jjc/anaconda2/lib/python2.7/site-packages/pandas/core/ops.pyc\u001b[0m in \u001b[0;36mna_op\u001b[0;34m(x, y)\u001b[0m\n\u001b[1;32m    757\u001b[0m \u001b[0;34m\u001b[0m\u001b[0m\n\u001b[1;32m    758\u001b[0m         \u001b[0;32mif\u001b[0m \u001b[0mis_object_dtype\u001b[0m\u001b[0;34m(\u001b[0m\u001b[0mx\u001b[0m\u001b[0;34m.\u001b[0m\u001b[0mdtype\u001b[0m\u001b[0;34m)\u001b[0m\u001b[0;34m:\u001b[0m\u001b[0;34m\u001b[0m\u001b[0m\n\u001b[0;32m--> 759\u001b[0;31m             \u001b[0mresult\u001b[0m \u001b[0;34m=\u001b[0m \u001b[0m_comp_method_OBJECT_ARRAY\u001b[0m\u001b[0;34m(\u001b[0m\u001b[0mop\u001b[0m\u001b[0;34m,\u001b[0m \u001b[0mx\u001b[0m\u001b[0;34m,\u001b[0m \u001b[0my\u001b[0m\u001b[0;34m)\u001b[0m\u001b[0;34m\u001b[0m\u001b[0m\n\u001b[0m\u001b[1;32m    760\u001b[0m         \u001b[0;32melse\u001b[0m\u001b[0;34m:\u001b[0m\u001b[0;34m\u001b[0m\u001b[0m\n\u001b[1;32m    761\u001b[0m \u001b[0;34m\u001b[0m\u001b[0m\n",
      "\u001b[0;32m/home/jjc/anaconda2/lib/python2.7/site-packages/pandas/core/ops.pyc\u001b[0m in \u001b[0;36m_comp_method_OBJECT_ARRAY\u001b[0;34m(op, x, y)\u001b[0m\n\u001b[1;32m    737\u001b[0m         \u001b[0mresult\u001b[0m \u001b[0;34m=\u001b[0m \u001b[0mlib\u001b[0m\u001b[0;34m.\u001b[0m\u001b[0mvec_compare\u001b[0m\u001b[0;34m(\u001b[0m\u001b[0mx\u001b[0m\u001b[0;34m,\u001b[0m \u001b[0my\u001b[0m\u001b[0;34m,\u001b[0m \u001b[0mop\u001b[0m\u001b[0;34m)\u001b[0m\u001b[0;34m\u001b[0m\u001b[0m\n\u001b[1;32m    738\u001b[0m     \u001b[0;32melse\u001b[0m\u001b[0;34m:\u001b[0m\u001b[0;34m\u001b[0m\u001b[0m\n\u001b[0;32m--> 739\u001b[0;31m         \u001b[0mresult\u001b[0m \u001b[0;34m=\u001b[0m \u001b[0mlib\u001b[0m\u001b[0;34m.\u001b[0m\u001b[0mscalar_compare\u001b[0m\u001b[0;34m(\u001b[0m\u001b[0mx\u001b[0m\u001b[0;34m,\u001b[0m \u001b[0my\u001b[0m\u001b[0;34m,\u001b[0m \u001b[0mop\u001b[0m\u001b[0;34m)\u001b[0m\u001b[0;34m\u001b[0m\u001b[0m\n\u001b[0m\u001b[1;32m    740\u001b[0m     \u001b[0;32mreturn\u001b[0m \u001b[0mresult\u001b[0m\u001b[0;34m\u001b[0m\u001b[0m\n\u001b[1;32m    741\u001b[0m \u001b[0;34m\u001b[0m\u001b[0m\n",
      "\u001b[0;31mKeyboardInterrupt\u001b[0m: "
     ]
    }
   ],
   "source": [
    "%run Swymify.py"
   ]
  },
  {
   "cell_type": "code",
   "execution_count": 30,
   "metadata": {
    "collapsed": false
   },
   "outputs": [
    {
     "data": {
      "text/plain": [
       "matrix([], shape=(1, 0), dtype=float64)"
      ]
     },
     "execution_count": 30,
     "metadata": {},
     "output_type": "execute_result"
    }
   ],
   "source": [
    "example_mat"
   ]
  },
  {
   "cell_type": "code",
   "execution_count": 31,
   "metadata": {
    "collapsed": false
   },
   "outputs": [
    {
     "data": {
      "text/plain": [
       "[]"
      ]
     },
     "execution_count": 31,
     "metadata": {},
     "output_type": "execute_result"
    }
   ],
   "source": [
    "example_class"
   ]
  },
  {
   "cell_type": "code",
   "execution_count": null,
   "metadata": {
    "collapsed": true
   },
   "outputs": [],
   "source": [
    "import numpy as np\n",
    "P = np.array([[.5, .25, .25],[.5,0,.5],[.25,.25,.5]])\n",
    "print P\n",
    "P_2 = np.linalg.matrix_power(P,2)\n",
    "print P_2"
   ]
  },
  {
   "cell_type": "code",
   "execution_count": 44,
   "metadata": {
    "collapsed": false
   },
   "outputs": [],
   "source": [
    "#Start from preloaded data\n",
    "df = example.modeling_df.copy()\n",
    "#Only use single session data\n",
    "df = df[df['sessionid'] == '8k5novj0knl8vha42324qs62p6vfa3im8djvdctm3m8p6gqkdwpnu632xpczvo5r'].sort_values('createddate').head(1)\n",
    "df.reset_index(drop = True, inplace = True)\n",
    "#Replace categorical variables with dummies\n",
    "df = example.swym_dummy_featurize(df)\n",
    "#Apply fitted tf-idf columns\n",
    "df = example.swym_nlp_read(df)\n",
    "#Output single session formatted data as dictionary\n",
    "single_x, single_y = example.swym_trim_data(df)\n",
    "Markov_dict = {}\n",
    "for i in example.events_desc.values():\n",
    "    Markov_x = single_x.copy()\n",
    "    if i != 'Add to Watchlist':\n",
    "        Markov_x[i] = 1\n",
    "        for j in example.events_desc.values():\n",
    "            if j != 'Add to Watchlist' and j != i:\n",
    "                Markov_x[j] = 0\n",
    "    Markov_dict[i] = example.model.predict_proba(Markov_x)\n",
    "#Change to numpy matrix for easier use\n",
    "Markov_classes = []\n",
    "for j in example.model.classes_:\n",
    "    Markov_classes.append(example.events_desc[j])\n",
    "listify = []\n",
    "for k in Markov_classes:\n",
    "    listify.append(Markov_dict[k][0])\n",
    "Markov_mat = np.array(listify)"
   ]
  },
  {
   "cell_type": "code",
   "execution_count": 45,
   "metadata": {
    "collapsed": false
   },
   "outputs": [
    {
     "data": {
      "text/plain": [
       "matrix([[ 0.09154732,  0.62686   ,  0.05453468,  0.0102051 ,  0.01060315,\n",
       "          0.08808994,  0.11815982],\n",
       "        [ 0.00283399,  0.72576623,  0.19865566,  0.02603316,  0.00790989,\n",
       "          0.02014102,  0.01866004],\n",
       "        [ 0.00418799,  0.69128256,  0.06923436,  0.01168578,  0.0112774 ,\n",
       "          0.09095703,  0.12137488],\n",
       "        [ 0.00420596,  0.67546143,  0.05723744,  0.04527408,  0.01053797,\n",
       "          0.0886392 ,  0.1186439 ],\n",
       "        [ 0.00401011,  0.19146991,  0.00244246,  0.00249848,  0.79673698,\n",
       "          0.        ,  0.00284206],\n",
       "        [ 0.00393831,  0.37464481,  0.04050123,  0.00307434,  0.08287929,\n",
       "          0.39825174,  0.09671028],\n",
       "        [ 0.00540241,  0.08465332,  0.00947337,  0.        ,  0.13455687,\n",
       "          0.08073829,  0.68517574]])"
      ]
     },
     "execution_count": 45,
     "metadata": {},
     "output_type": "execute_result"
    }
   ],
   "source": [
    "Markov_mat"
   ]
  },
  {
   "cell_type": "code",
   "execution_count": 52,
   "metadata": {
    "collapsed": true
   },
   "outputs": [],
   "source": [
    "a = pd.DataFrame(Markov_mat, index = Markov_classes)"
   ]
  },
  {
   "cell_type": "code",
   "execution_count": 53,
   "metadata": {
    "collapsed": false
   },
   "outputs": [
    {
     "data": {
      "text/html": [
       "<div>\n",
       "<table border=\"1\" class=\"dataframe\">\n",
       "  <thead>\n",
       "    <tr style=\"text-align: right;\">\n",
       "      <th></th>\n",
       "      <th>0</th>\n",
       "      <th>1</th>\n",
       "      <th>2</th>\n",
       "      <th>3</th>\n",
       "      <th>4</th>\n",
       "      <th>5</th>\n",
       "      <th>6</th>\n",
       "    </tr>\n",
       "  </thead>\n",
       "  <tbody>\n",
       "    <tr>\n",
       "      <th>Delete from Wishlist</th>\n",
       "      <td>0.091547</td>\n",
       "      <td>0.626860</td>\n",
       "      <td>0.054535</td>\n",
       "      <td>0.010205</td>\n",
       "      <td>0.010603</td>\n",
       "      <td>0.088090</td>\n",
       "      <td>0.118160</td>\n",
       "    </tr>\n",
       "    <tr>\n",
       "      <th>Page View</th>\n",
       "      <td>0.002834</td>\n",
       "      <td>0.725766</td>\n",
       "      <td>0.198656</td>\n",
       "      <td>0.026033</td>\n",
       "      <td>0.007910</td>\n",
       "      <td>0.020141</td>\n",
       "      <td>0.018660</td>\n",
       "    </tr>\n",
       "    <tr>\n",
       "      <th>Add to Cart</th>\n",
       "      <td>0.004188</td>\n",
       "      <td>0.691283</td>\n",
       "      <td>0.069234</td>\n",
       "      <td>0.011686</td>\n",
       "      <td>0.011277</td>\n",
       "      <td>0.090957</td>\n",
       "      <td>0.121375</td>\n",
       "    </tr>\n",
       "    <tr>\n",
       "      <th>Add to Wishlist</th>\n",
       "      <td>0.004206</td>\n",
       "      <td>0.675461</td>\n",
       "      <td>0.057237</td>\n",
       "      <td>0.045274</td>\n",
       "      <td>0.010538</td>\n",
       "      <td>0.088639</td>\n",
       "      <td>0.118644</td>\n",
       "    </tr>\n",
       "    <tr>\n",
       "      <th>Purchase</th>\n",
       "      <td>0.004010</td>\n",
       "      <td>0.191470</td>\n",
       "      <td>0.002442</td>\n",
       "      <td>0.002498</td>\n",
       "      <td>0.796737</td>\n",
       "      <td>0.000000</td>\n",
       "      <td>0.002842</td>\n",
       "    </tr>\n",
       "    <tr>\n",
       "      <th>Remove from Cart</th>\n",
       "      <td>0.003938</td>\n",
       "      <td>0.374645</td>\n",
       "      <td>0.040501</td>\n",
       "      <td>0.003074</td>\n",
       "      <td>0.082879</td>\n",
       "      <td>0.398252</td>\n",
       "      <td>0.096710</td>\n",
       "    </tr>\n",
       "    <tr>\n",
       "      <th>Begin Checkout</th>\n",
       "      <td>0.005402</td>\n",
       "      <td>0.084653</td>\n",
       "      <td>0.009473</td>\n",
       "      <td>0.000000</td>\n",
       "      <td>0.134557</td>\n",
       "      <td>0.080738</td>\n",
       "      <td>0.685176</td>\n",
       "    </tr>\n",
       "  </tbody>\n",
       "</table>\n",
       "</div>"
      ],
      "text/plain": [
       "                             0         1         2         3         4  \\\n",
       "Delete from Wishlist  0.091547  0.626860  0.054535  0.010205  0.010603   \n",
       "Page View             0.002834  0.725766  0.198656  0.026033  0.007910   \n",
       "Add to Cart           0.004188  0.691283  0.069234  0.011686  0.011277   \n",
       "Add to Wishlist       0.004206  0.675461  0.057237  0.045274  0.010538   \n",
       "Purchase              0.004010  0.191470  0.002442  0.002498  0.796737   \n",
       "Remove from Cart      0.003938  0.374645  0.040501  0.003074  0.082879   \n",
       "Begin Checkout        0.005402  0.084653  0.009473  0.000000  0.134557   \n",
       "\n",
       "                             5         6  \n",
       "Delete from Wishlist  0.088090  0.118160  \n",
       "Page View             0.020141  0.018660  \n",
       "Add to Cart           0.090957  0.121375  \n",
       "Add to Wishlist       0.088639  0.118644  \n",
       "Purchase              0.000000  0.002842  \n",
       "Remove from Cart      0.398252  0.096710  \n",
       "Begin Checkout        0.080738  0.685176  "
      ]
     },
     "execution_count": 53,
     "metadata": {},
     "output_type": "execute_result"
    }
   ],
   "source": [
    "a"
   ]
  },
  {
   "cell_type": "code",
   "execution_count": 46,
   "metadata": {
    "collapsed": false
   },
   "outputs": [
    {
     "name": "stdout",
     "output_type": "stream",
     "text": [
      "[[ 0.01145653  0.60196843  0.1385946   0.01865001  0.03829961  0.07117688\n",
      "   0.11985394]\n",
      " [ 0.00346957  0.6940646   0.16058782  0.02250467  0.01876765  0.04477179\n",
      "   0.05583391]\n",
      " [ 0.00374074  0.60659927  0.14787909  0.01968494  0.0392717   0.06764863\n",
      "   0.11517563]\n",
      " [ 0.00376173  0.60828131  0.14570747  0.02064476  0.03821671  0.06807402\n",
      "   0.11531399]\n",
      " [ 0.00414083  0.29764398  0.0405403   0.00715778  0.63678314  0.00488274\n",
      "   0.00885123]\n",
      " [ 0.00402809  0.4777064   0.09486841  0.01183729  0.11554715  0.17826171\n",
      "   0.11775095]\n",
      " [ 0.00533332  0.18538802  0.02785693  0.00295403  0.20692679  0.09051666\n",
      "   0.48102424]]\n"
     ]
    }
   ],
   "source": [
    "import numpy as np\n",
    "P_2 = np.linalg.matrix_power(Markov_mat,2)\n",
    "print P_2"
   ]
  },
  {
   "cell_type": "code",
   "execution_count": 55,
   "metadata": {
    "collapsed": false
   },
   "outputs": [
    {
     "data": {
      "text/html": [
       "<div>\n",
       "<table border=\"1\" class=\"dataframe\">\n",
       "  <thead>\n",
       "    <tr style=\"text-align: right;\">\n",
       "      <th></th>\n",
       "      <th>0</th>\n",
       "      <th>1</th>\n",
       "      <th>2</th>\n",
       "      <th>3</th>\n",
       "      <th>4</th>\n",
       "      <th>5</th>\n",
       "      <th>6</th>\n",
       "    </tr>\n",
       "  </thead>\n",
       "  <tbody>\n",
       "    <tr>\n",
       "      <th>Delete from Wishlist</th>\n",
       "      <td>0.011457</td>\n",
       "      <td>0.601968</td>\n",
       "      <td>0.138595</td>\n",
       "      <td>0.018650</td>\n",
       "      <td>0.038300</td>\n",
       "      <td>0.071177</td>\n",
       "      <td>0.119854</td>\n",
       "    </tr>\n",
       "    <tr>\n",
       "      <th>Page View</th>\n",
       "      <td>0.003470</td>\n",
       "      <td>0.694065</td>\n",
       "      <td>0.160588</td>\n",
       "      <td>0.022505</td>\n",
       "      <td>0.018768</td>\n",
       "      <td>0.044772</td>\n",
       "      <td>0.055834</td>\n",
       "    </tr>\n",
       "    <tr>\n",
       "      <th>Add to Cart</th>\n",
       "      <td>0.003741</td>\n",
       "      <td>0.606599</td>\n",
       "      <td>0.147879</td>\n",
       "      <td>0.019685</td>\n",
       "      <td>0.039272</td>\n",
       "      <td>0.067649</td>\n",
       "      <td>0.115176</td>\n",
       "    </tr>\n",
       "    <tr>\n",
       "      <th>Add to Wishlist</th>\n",
       "      <td>0.003762</td>\n",
       "      <td>0.608281</td>\n",
       "      <td>0.145707</td>\n",
       "      <td>0.020645</td>\n",
       "      <td>0.038217</td>\n",
       "      <td>0.068074</td>\n",
       "      <td>0.115314</td>\n",
       "    </tr>\n",
       "    <tr>\n",
       "      <th>Purchase</th>\n",
       "      <td>0.004141</td>\n",
       "      <td>0.297644</td>\n",
       "      <td>0.040540</td>\n",
       "      <td>0.007158</td>\n",
       "      <td>0.636783</td>\n",
       "      <td>0.004883</td>\n",
       "      <td>0.008851</td>\n",
       "    </tr>\n",
       "    <tr>\n",
       "      <th>Remove from Cart</th>\n",
       "      <td>0.004028</td>\n",
       "      <td>0.477706</td>\n",
       "      <td>0.094868</td>\n",
       "      <td>0.011837</td>\n",
       "      <td>0.115547</td>\n",
       "      <td>0.178262</td>\n",
       "      <td>0.117751</td>\n",
       "    </tr>\n",
       "    <tr>\n",
       "      <th>Begin Checkout</th>\n",
       "      <td>0.005333</td>\n",
       "      <td>0.185388</td>\n",
       "      <td>0.027857</td>\n",
       "      <td>0.002954</td>\n",
       "      <td>0.206927</td>\n",
       "      <td>0.090517</td>\n",
       "      <td>0.481024</td>\n",
       "    </tr>\n",
       "  </tbody>\n",
       "</table>\n",
       "</div>"
      ],
      "text/plain": [
       "                             0         1         2         3         4  \\\n",
       "Delete from Wishlist  0.011457  0.601968  0.138595  0.018650  0.038300   \n",
       "Page View             0.003470  0.694065  0.160588  0.022505  0.018768   \n",
       "Add to Cart           0.003741  0.606599  0.147879  0.019685  0.039272   \n",
       "Add to Wishlist       0.003762  0.608281  0.145707  0.020645  0.038217   \n",
       "Purchase              0.004141  0.297644  0.040540  0.007158  0.636783   \n",
       "Remove from Cart      0.004028  0.477706  0.094868  0.011837  0.115547   \n",
       "Begin Checkout        0.005333  0.185388  0.027857  0.002954  0.206927   \n",
       "\n",
       "                             5         6  \n",
       "Delete from Wishlist  0.071177  0.119854  \n",
       "Page View             0.044772  0.055834  \n",
       "Add to Cart           0.067649  0.115176  \n",
       "Add to Wishlist       0.068074  0.115314  \n",
       "Purchase              0.004883  0.008851  \n",
       "Remove from Cart      0.178262  0.117751  \n",
       "Begin Checkout        0.090517  0.481024  "
      ]
     },
     "execution_count": 55,
     "metadata": {},
     "output_type": "execute_result"
    }
   ],
   "source": [
    "b = pd.DataFrame(P_2, Markov_classes)\n",
    "b"
   ]
  },
  {
   "cell_type": "code",
   "execution_count": 47,
   "metadata": {
    "collapsed": false
   },
   "outputs": [
    {
     "name": "stdout",
     "output_type": "stream",
     "text": [
      "[[ 0.00449506  0.5966207   0.13498392  0.01856652  0.05918347  0.06541586\n",
      "   0.12073447]\n",
      " [ 0.00360502  0.65720966  0.15286346  0.02118411  0.03375131  0.05322457\n",
      "   0.07816188]\n",
      " [ 0.00380979  0.6007304   0.13600028  0.01875526  0.05910649  0.06398282\n",
      "   0.11761496]\n",
      " [ 0.00380961  0.60108053  0.13625612  0.01881602  0.05831897  0.06408668\n",
      "   0.11763207]\n",
      " [ 0.00404311  0.37597867  0.06440788  0.01019468  0.5118752   0.0133407\n",
      "   0.02015976]\n",
      " [ 0.00397122  0.52168137  0.11098197  0.01495858  0.12769502  0.10015457\n",
      "   0.12055727]\n",
      " [ 0.0049277   0.27339611  0.04794533  0.00613522  0.23896154  0.08188484\n",
      "   0.34674927]]\n"
     ]
    }
   ],
   "source": [
    "P_3 = np.linalg.matrix_power(Markov_mat,3)\n",
    "print P_3"
   ]
  },
  {
   "cell_type": "code",
   "execution_count": 56,
   "metadata": {
    "collapsed": false
   },
   "outputs": [],
   "source": [
    "c = pd.DataFrame(P_3, Markov_classes)"
   ]
  },
  {
   "cell_type": "code",
   "execution_count": 57,
   "metadata": {
    "collapsed": false
   },
   "outputs": [
    {
     "data": {
      "text/html": [
       "<div>\n",
       "<table border=\"1\" class=\"dataframe\">\n",
       "  <thead>\n",
       "    <tr style=\"text-align: right;\">\n",
       "      <th></th>\n",
       "      <th>0</th>\n",
       "      <th>1</th>\n",
       "      <th>2</th>\n",
       "      <th>3</th>\n",
       "      <th>4</th>\n",
       "      <th>5</th>\n",
       "      <th>6</th>\n",
       "    </tr>\n",
       "  </thead>\n",
       "  <tbody>\n",
       "    <tr>\n",
       "      <th>Delete from Wishlist</th>\n",
       "      <td>0.004495</td>\n",
       "      <td>0.596621</td>\n",
       "      <td>0.134984</td>\n",
       "      <td>0.018567</td>\n",
       "      <td>0.059183</td>\n",
       "      <td>0.065416</td>\n",
       "      <td>0.120734</td>\n",
       "    </tr>\n",
       "    <tr>\n",
       "      <th>Page View</th>\n",
       "      <td>0.003605</td>\n",
       "      <td>0.657210</td>\n",
       "      <td>0.152863</td>\n",
       "      <td>0.021184</td>\n",
       "      <td>0.033751</td>\n",
       "      <td>0.053225</td>\n",
       "      <td>0.078162</td>\n",
       "    </tr>\n",
       "    <tr>\n",
       "      <th>Add to Cart</th>\n",
       "      <td>0.003810</td>\n",
       "      <td>0.600730</td>\n",
       "      <td>0.136000</td>\n",
       "      <td>0.018755</td>\n",
       "      <td>0.059106</td>\n",
       "      <td>0.063983</td>\n",
       "      <td>0.117615</td>\n",
       "    </tr>\n",
       "    <tr>\n",
       "      <th>Add to Wishlist</th>\n",
       "      <td>0.003810</td>\n",
       "      <td>0.601081</td>\n",
       "      <td>0.136256</td>\n",
       "      <td>0.018816</td>\n",
       "      <td>0.058319</td>\n",
       "      <td>0.064087</td>\n",
       "      <td>0.117632</td>\n",
       "    </tr>\n",
       "    <tr>\n",
       "      <th>Purchase</th>\n",
       "      <td>0.004043</td>\n",
       "      <td>0.375979</td>\n",
       "      <td>0.064408</td>\n",
       "      <td>0.010195</td>\n",
       "      <td>0.511875</td>\n",
       "      <td>0.013341</td>\n",
       "      <td>0.020160</td>\n",
       "    </tr>\n",
       "    <tr>\n",
       "      <th>Remove from Cart</th>\n",
       "      <td>0.003971</td>\n",
       "      <td>0.521681</td>\n",
       "      <td>0.110982</td>\n",
       "      <td>0.014959</td>\n",
       "      <td>0.127695</td>\n",
       "      <td>0.100155</td>\n",
       "      <td>0.120557</td>\n",
       "    </tr>\n",
       "    <tr>\n",
       "      <th>Begin Checkout</th>\n",
       "      <td>0.004928</td>\n",
       "      <td>0.273396</td>\n",
       "      <td>0.047945</td>\n",
       "      <td>0.006135</td>\n",
       "      <td>0.238962</td>\n",
       "      <td>0.081885</td>\n",
       "      <td>0.346749</td>\n",
       "    </tr>\n",
       "  </tbody>\n",
       "</table>\n",
       "</div>"
      ],
      "text/plain": [
       "                             0         1         2         3         4  \\\n",
       "Delete from Wishlist  0.004495  0.596621  0.134984  0.018567  0.059183   \n",
       "Page View             0.003605  0.657210  0.152863  0.021184  0.033751   \n",
       "Add to Cart           0.003810  0.600730  0.136000  0.018755  0.059106   \n",
       "Add to Wishlist       0.003810  0.601081  0.136256  0.018816  0.058319   \n",
       "Purchase              0.004043  0.375979  0.064408  0.010195  0.511875   \n",
       "Remove from Cart      0.003971  0.521681  0.110982  0.014959  0.127695   \n",
       "Begin Checkout        0.004928  0.273396  0.047945  0.006135  0.238962   \n",
       "\n",
       "                             5         6  \n",
       "Delete from Wishlist  0.065416  0.120734  \n",
       "Page View             0.053225  0.078162  \n",
       "Add to Cart           0.063983  0.117615  \n",
       "Add to Wishlist       0.064087  0.117632  \n",
       "Purchase              0.013341  0.020160  \n",
       "Remove from Cart      0.100155  0.120557  \n",
       "Begin Checkout        0.081885  0.346749  "
      ]
     },
     "execution_count": 57,
     "metadata": {},
     "output_type": "execute_result"
    }
   ],
   "source": [
    "c"
   ]
  },
  {
   "cell_type": "code",
   "execution_count": null,
   "metadata": {
    "collapsed": true
   },
   "outputs": [],
   "source": []
  }
 ],
 "metadata": {
  "kernelspec": {
   "display_name": "Python 2",
   "language": "python",
   "name": "python2"
  },
  "language_info": {
   "codemirror_mode": {
    "name": "ipython",
    "version": 2
   },
   "file_extension": ".py",
   "mimetype": "text/x-python",
   "name": "python",
   "nbconvert_exporter": "python",
   "pygments_lexer": "ipython2",
   "version": "2.7.13"
  }
 },
 "nbformat": 4,
 "nbformat_minor": 2
}
