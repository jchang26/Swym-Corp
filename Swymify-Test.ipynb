{
 "cells": [
  {
   "cell_type": "code",
   "execution_count": 4,
   "metadata": {
    "collapsed": false
   },
   "outputs": [
    {
     "name": "stdout",
     "output_type": "stream",
     "text": [
      "Order 1 RFC cross-validation score = 0.711251162394\n",
      "Order 1 RFC testing score = 0.776655664234\n",
      "Order 2 RFC cross-validation score = 0.705320630969\n",
      "Order 2 RFC testing score = 0.780575277626\n",
      "Order 3 RFC cross-validation score = 0.691728478988\n",
      "Order 3 RFC testing score = 0.768524856678\n",
      "Order 4 RFC cross-validation score = 0.687608723529\n",
      "Order 4 RFC testing score = 0.760626564553\n",
      "Order 5 RFC cross-validation score = 0.685164952519\n",
      "Order 5 RFC testing score = 0.759149202377\n",
      "Order 6 RFC cross-validation score = 0.685018451403\n",
      "Order 6 RFC testing score = 0.754884489518\n",
      "0.711917036097\n",
      "0.776579959422\n"
     ]
    }
   ],
   "source": [
    "%run Swymify.py"
   ]
  },
  {
   "cell_type": "code",
   "execution_count": null,
   "metadata": {
    "collapsed": true
   },
   "outputs": [],
   "source": []
  }
 ],
 "metadata": {
  "kernelspec": {
   "display_name": "Python 2",
   "language": "python",
   "name": "python2"
  },
  "language_info": {
   "codemirror_mode": {
    "name": "ipython",
    "version": 2
   },
   "file_extension": ".py",
   "mimetype": "text/x-python",
   "name": "python",
   "nbconvert_exporter": "python",
   "pygments_lexer": "ipython2",
   "version": "2.7.13"
  }
 },
 "nbformat": 4,
 "nbformat_minor": 2
}
