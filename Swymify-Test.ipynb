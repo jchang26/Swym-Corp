{
 "cells": [
  {
   "cell_type": "code",
   "execution_count": 4,
   "metadata": {
    "collapsed": false
   },
   "outputs": [
    {
     "name": "stdout",
     "output_type": "stream",
     "text": [
      "Order 1 RFC cross-validation score = 0.711251162394\n",
      "Order 1 RFC testing score = 0.776655664234\n",
      "Order 2 RFC cross-validation score = 0.705320630969\n",
      "Order 2 RFC testing score = 0.780575277626\n",
      "Order 3 RFC cross-validation score = 0.691728478988\n",
      "Order 3 RFC testing score = 0.768524856678\n",
      "Order 4 RFC cross-validation score = 0.687608723529\n",
      "Order 4 RFC testing score = 0.760626564553\n",
      "Order 5 RFC cross-validation score = 0.685164952519\n",
      "Order 5 RFC testing score = 0.759149202377\n",
      "Order 6 RFC cross-validation score = 0.685018451403\n",
      "Order 6 RFC testing score = 0.754884489518\n",
      "0.711917036097\n",
      "0.776579959422\n"
     ]
    }
   ],
   "source": [
    "%run Swymify.py"
   ]
  },
  {
   "cell_type": "code",
   "execution_count": 61,
   "metadata": {
    "collapsed": false
   },
   "outputs": [
    {
     "name": "stdout",
     "output_type": "stream",
     "text": [
      "0.710877589776\n",
      "0.776655664234\n"
     ]
    }
   ],
   "source": [
    "%run Swymify.py"
   ]
  },
  {
   "cell_type": "code",
   "execution_count": 62,
   "metadata": {
    "collapsed": false
   },
   "outputs": [
    {
     "data": {
      "text/plain": [
       " 1.0      120894\n",
       " 3.0       25843\n",
       " 104.0     13047\n",
       " 7.0        7844\n",
       " 4.0        7407\n",
       " 6.0        7104\n",
       "-1.0        2575\n",
       "Name: nextaction, dtype: int64"
      ]
     },
     "execution_count": 62,
     "metadata": {},
     "output_type": "execute_result"
    }
   ],
   "source": [
    "Markov_test.swym_y.value_counts()"
   ]
  },
  {
   "cell_type": "code",
   "execution_count": 64,
   "metadata": {
    "collapsed": false
   },
   "outputs": [
    {
     "ename": "AttributeError",
     "evalue": "'DataFrame' object has no attribute 'sortvalues'",
     "output_type": "error",
     "traceback": [
      "\u001b[0;31m---------------------------------------------------------------------------\u001b[0m",
      "\u001b[0;31mAttributeError\u001b[0m                            Traceback (most recent call last)",
      "\u001b[0;32m<ipython-input-64-ed08548128fd>\u001b[0m in \u001b[0;36m<module>\u001b[0;34m()\u001b[0m\n\u001b[0;32m----> 1\u001b[0;31m \u001b[0mMarkov_test\u001b[0m\u001b[0;34m.\u001b[0m\u001b[0mmarkovify\u001b[0m\u001b[0;34m(\u001b[0m\u001b[0;34m'data/session_data_training_feb.csv'\u001b[0m\u001b[0;34m,\u001b[0m \u001b[0;34m'data/devices_data_training_feb.csv'\u001b[0m\u001b[0;34m,\u001b[0m\u001b[0mmax_sess\u001b[0m\u001b[0;34m)\u001b[0m\u001b[0;34m\u001b[0m\u001b[0m\n\u001b[0m",
      "\u001b[0;32m/home/jjc/Documents/GitHub/swym-corp/Swymify.py\u001b[0m in \u001b[0;36mmarkovify\u001b[0;34m(self, session_path, device_path, single_session)\u001b[0m\n\u001b[1;32m    468\u001b[0m             \u001b[0mdf\u001b[0m \u001b[0;34m=\u001b[0m \u001b[0mself\u001b[0m\u001b[0;34m.\u001b[0m\u001b[0mswym_prior_history\u001b[0m\u001b[0;34m(\u001b[0m\u001b[0mdf\u001b[0m\u001b[0;34m)\u001b[0m\u001b[0;34m\u001b[0m\u001b[0m\n\u001b[1;32m    469\u001b[0m             \u001b[0;31m#Only use single session data\u001b[0m\u001b[0;34m\u001b[0m\u001b[0;34m\u001b[0m\u001b[0m\n\u001b[0;32m--> 470\u001b[0;31m             \u001b[0mdf\u001b[0m \u001b[0;34m=\u001b[0m \u001b[0mdf\u001b[0m\u001b[0;34m[\u001b[0m\u001b[0mdf\u001b[0m\u001b[0;34m[\u001b[0m\u001b[0;34m'sessionid'\u001b[0m\u001b[0;34m]\u001b[0m \u001b[0;34m==\u001b[0m \u001b[0msingle_session\u001b[0m\u001b[0;34m]\u001b[0m\u001b[0;34m.\u001b[0m\u001b[0msortvalues\u001b[0m\u001b[0;34m(\u001b[0m\u001b[0;34m'createddate'\u001b[0m\u001b[0;34m)\u001b[0m\u001b[0;34m.\u001b[0m\u001b[0miloc\u001b[0m\u001b[0;34m[\u001b[0m\u001b[0;36m0\u001b[0m\u001b[0;34m]\u001b[0m\u001b[0;34m\u001b[0m\u001b[0m\n\u001b[0m\u001b[1;32m    471\u001b[0m             \u001b[0;31m#Initialize elapsed time and add placeholder for predicted next action\u001b[0m\u001b[0;34m\u001b[0m\u001b[0;34m\u001b[0m\u001b[0m\n\u001b[1;32m    472\u001b[0m             \u001b[0mdf\u001b[0m\u001b[0;34m[\u001b[0m\u001b[0;34m'elapsedtime'\u001b[0m\u001b[0;34m]\u001b[0m \u001b[0;34m=\u001b[0m \u001b[0;36m0\u001b[0m\u001b[0;34m\u001b[0m\u001b[0m\n",
      "\u001b[0;32m/home/jjc/anaconda2/lib/python2.7/site-packages/pandas/core/generic.pyc\u001b[0m in \u001b[0;36m__getattr__\u001b[0;34m(self, name)\u001b[0m\n\u001b[1;32m   2742\u001b[0m             \u001b[0;32mif\u001b[0m \u001b[0mname\u001b[0m \u001b[0;32min\u001b[0m \u001b[0mself\u001b[0m\u001b[0;34m.\u001b[0m\u001b[0m_info_axis\u001b[0m\u001b[0;34m:\u001b[0m\u001b[0;34m\u001b[0m\u001b[0m\n\u001b[1;32m   2743\u001b[0m                 \u001b[0;32mreturn\u001b[0m \u001b[0mself\u001b[0m\u001b[0;34m[\u001b[0m\u001b[0mname\u001b[0m\u001b[0;34m]\u001b[0m\u001b[0;34m\u001b[0m\u001b[0m\n\u001b[0;32m-> 2744\u001b[0;31m             \u001b[0;32mreturn\u001b[0m \u001b[0mobject\u001b[0m\u001b[0;34m.\u001b[0m\u001b[0m__getattribute__\u001b[0m\u001b[0;34m(\u001b[0m\u001b[0mself\u001b[0m\u001b[0;34m,\u001b[0m \u001b[0mname\u001b[0m\u001b[0;34m)\u001b[0m\u001b[0;34m\u001b[0m\u001b[0m\n\u001b[0m\u001b[1;32m   2745\u001b[0m \u001b[0;34m\u001b[0m\u001b[0m\n\u001b[1;32m   2746\u001b[0m     \u001b[0;32mdef\u001b[0m \u001b[0m__setattr__\u001b[0m\u001b[0;34m(\u001b[0m\u001b[0mself\u001b[0m\u001b[0;34m,\u001b[0m \u001b[0mname\u001b[0m\u001b[0;34m,\u001b[0m \u001b[0mvalue\u001b[0m\u001b[0;34m)\u001b[0m\u001b[0;34m:\u001b[0m\u001b[0;34m\u001b[0m\u001b[0m\n",
      "\u001b[0;31mAttributeError\u001b[0m: 'DataFrame' object has no attribute 'sortvalues'"
     ]
    }
   ],
   "source": [
    "Markov_test.markovify('data/session_data_training_feb.csv', 'data/devices_data_training_feb.csv',max_sess)"
   ]
  },
  {
   "cell_type": "code",
   "execution_count": 36,
   "metadata": {
    "collapsed": false
   },
   "outputs": [],
   "source": [
    "#Code to find best session for Markov chain\n",
    "import pandas as pd\n",
    "session = pd.DataFrame(Markov_test.modeling_df['sessionid'])\n",
    "session.columns = ['sessionid']\n",
    "session['predicted'] = Markov_test.model.predict(Markov_test.swym_x)\n",
    "session['actual'] = Markov_test.swym_y\n",
    "session['same'] = session['predicted'] == session['actual']\n",
    "session['same'] = session['same'].astype(int)\n",
    "max_sess = None\n",
    "max_same = 0\n",
    "for i in session['sessionid'].unique():\n",
    "    one_session = session[session['sessionid'] == i]\n",
    "    if np.sum(one_session['same']) > max_same and np.sum(one_session['same']) == one_session.shape[0]:\n",
    "        max_sess = i\n",
    "        max_same = np.sum(one_session['same'])"
   ]
  },
  {
   "cell_type": "code",
   "execution_count": 46,
   "metadata": {
    "collapsed": true
   },
   "outputs": [],
   "source": [
    "max_sess = None\n",
    "max_same = 0\n",
    "for i in session['sessionid'].unique():\n",
    "    one_session = session[session['sessionid'] == i]\n",
    "    if np.sum(one_session['same']) > max_same and np.sum(one_session['same']) == one_session.shape[0] :\n",
    "        max_sess = i\n",
    "        max_same = np.sum(one_session['same'])"
   ]
  },
  {
   "cell_type": "code",
   "execution_count": 47,
   "metadata": {
    "collapsed": false
   },
   "outputs": [
    {
     "data": {
      "text/plain": [
       "3"
      ]
     },
     "execution_count": 47,
     "metadata": {},
     "output_type": "execute_result"
    }
   ],
   "source": [
    "max_same"
   ]
  },
  {
   "cell_type": "code",
   "execution_count": 48,
   "metadata": {
    "collapsed": false
   },
   "outputs": [
    {
     "data": {
      "text/plain": [
       "'8k5novj0knl8vha42324qs62p6vfa3im8djvdctm3m8p6gqkdwpnu632xpczvo5r'"
      ]
     },
     "execution_count": 48,
     "metadata": {},
     "output_type": "execute_result"
    }
   ],
   "source": [
    "max_sess"
   ]
  },
  {
   "cell_type": "code",
   "execution_count": 49,
   "metadata": {
    "collapsed": false
   },
   "outputs": [],
   "source": [
    "check = Markov_test.modeling_df[Markov_test.modeling_df['sessionid'] == max_sess]"
   ]
  },
  {
   "cell_type": "code",
   "execution_count": 52,
   "metadata": {
    "collapsed": false
   },
   "outputs": [
    {
     "data": {
      "text/html": [
       "<div>\n",
       "<table border=\"1\" class=\"dataframe\">\n",
       "  <thead>\n",
       "    <tr style=\"text-align: right;\">\n",
       "      <th></th>\n",
       "      <th>85367</th>\n",
       "      <th>85368</th>\n",
       "      <th>85369</th>\n",
       "    </tr>\n",
       "  </thead>\n",
       "  <tbody>\n",
       "    <tr>\n",
       "      <th>sessionid</th>\n",
       "      <td>8k5novj0knl8vha42324qs62p6vfa3im8djvdctm3m8p6g...</td>\n",
       "      <td>8k5novj0knl8vha42324qs62p6vfa3im8djvdctm3m8p6g...</td>\n",
       "      <td>8k5novj0knl8vha42324qs62p6vfa3im8djvdctm3m8p6g...</td>\n",
       "    </tr>\n",
       "    <tr>\n",
       "      <th>category</th>\n",
       "      <td></td>\n",
       "      <td></td>\n",
       "      <td></td>\n",
       "    </tr>\n",
       "    <tr>\n",
       "      <th>createddate</th>\n",
       "      <td>2017-02-09 21:15:26</td>\n",
       "      <td>2017-02-09 21:15:28</td>\n",
       "      <td>2017-02-09 21:18:53</td>\n",
       "    </tr>\n",
       "    <tr>\n",
       "      <th>pagetitle</th>\n",
       "      <td>Oh Pooh!</td>\n",
       "      <td>Paisley Elephant</td>\n",
       "      <td>Oh Pooh!</td>\n",
       "    </tr>\n",
       "    <tr>\n",
       "      <th>userid</th>\n",
       "      <td>eeejle@aol.com</td>\n",
       "      <td>eeejle@aol.com</td>\n",
       "      <td>eeejle@aol.com</td>\n",
       "    </tr>\n",
       "    <tr>\n",
       "      <th>providerid</th>\n",
       "      <td>/JnX+WmfJI4b2+NBp7+e81TFoCCSGT8QarGV6f1hHf0=</td>\n",
       "      <td>/JnX+WmfJI4b2+NBp7+e81TFoCCSGT8QarGV6f1hHf0=</td>\n",
       "      <td>/JnX+WmfJI4b2+NBp7+e81TFoCCSGT8QarGV6f1hHf0=</td>\n",
       "    </tr>\n",
       "    <tr>\n",
       "      <th>productid</th>\n",
       "      <td>3.17349e+10</td>\n",
       "      <td>3.20113e+10</td>\n",
       "      <td>3.17349e+10</td>\n",
       "    </tr>\n",
       "    <tr>\n",
       "      <th>referrerurl</th>\n",
       "      <td></td>\n",
       "      <td></td>\n",
       "      <td></td>\n",
       "    </tr>\n",
       "    <tr>\n",
       "      <th>deviceid</th>\n",
       "      <td>61d85144-f7c4-4e48-9c1e-b3a37f5debba</td>\n",
       "      <td>61d85144-f7c4-4e48-9c1e-b3a37f5debba</td>\n",
       "      <td>61d85144-f7c4-4e48-9c1e-b3a37f5debba</td>\n",
       "    </tr>\n",
       "    <tr>\n",
       "      <th>eventtype</th>\n",
       "      <td>104</td>\n",
       "      <td>104</td>\n",
       "      <td>6</td>\n",
       "    </tr>\n",
       "    <tr>\n",
       "      <th>quantity</th>\n",
       "      <td>1</td>\n",
       "      <td>1</td>\n",
       "      <td>1</td>\n",
       "    </tr>\n",
       "    <tr>\n",
       "      <th>price</th>\n",
       "      <td>25</td>\n",
       "      <td>25</td>\n",
       "      <td>25</td>\n",
       "    </tr>\n",
       "    <tr>\n",
       "      <th>dayofweek</th>\n",
       "      <td>3</td>\n",
       "      <td>3</td>\n",
       "      <td>3</td>\n",
       "    </tr>\n",
       "    <tr>\n",
       "      <th>hour</th>\n",
       "      <td>21</td>\n",
       "      <td>21</td>\n",
       "      <td>21</td>\n",
       "    </tr>\n",
       "    <tr>\n",
       "      <th>devicecategory</th>\n",
       "      <td>Unknown</td>\n",
       "      <td>Unknown</td>\n",
       "      <td>Unknown</td>\n",
       "    </tr>\n",
       "    <tr>\n",
       "      <th>devicetype</th>\n",
       "      <td>Unknown</td>\n",
       "      <td>Unknown</td>\n",
       "      <td>Unknown</td>\n",
       "    </tr>\n",
       "    <tr>\n",
       "      <th>agenttype</th>\n",
       "      <td>Unknown</td>\n",
       "      <td>Unknown</td>\n",
       "      <td>Unknown</td>\n",
       "    </tr>\n",
       "    <tr>\n",
       "      <th>os</th>\n",
       "      <td>Unknown</td>\n",
       "      <td>Unknown</td>\n",
       "      <td>Unknown</td>\n",
       "    </tr>\n",
       "    <tr>\n",
       "      <th>hist_ind</th>\n",
       "      <td>1</td>\n",
       "      <td>1</td>\n",
       "      <td>1</td>\n",
       "    </tr>\n",
       "    <tr>\n",
       "      <th>elapsedtime</th>\n",
       "      <td>0</td>\n",
       "      <td>2</td>\n",
       "      <td>205</td>\n",
       "    </tr>\n",
       "    <tr>\n",
       "      <th>totalelapsedtime</th>\n",
       "      <td>0</td>\n",
       "      <td>2</td>\n",
       "      <td>207</td>\n",
       "    </tr>\n",
       "    <tr>\n",
       "      <th>nextaction</th>\n",
       "      <td>104</td>\n",
       "      <td>6</td>\n",
       "      <td>6</td>\n",
       "    </tr>\n",
       "  </tbody>\n",
       "</table>\n",
       "</div>"
      ],
      "text/plain": [
       "                                                              85367  \\\n",
       "sessionid         8k5novj0knl8vha42324qs62p6vfa3im8djvdctm3m8p6g...   \n",
       "category                                                              \n",
       "createddate                                     2017-02-09 21:15:26   \n",
       "pagetitle                                                  Oh Pooh!   \n",
       "userid                                               eeejle@aol.com   \n",
       "providerid             /JnX+WmfJI4b2+NBp7+e81TFoCCSGT8QarGV6f1hHf0=   \n",
       "productid                                               3.17349e+10   \n",
       "referrerurl                                                           \n",
       "deviceid                       61d85144-f7c4-4e48-9c1e-b3a37f5debba   \n",
       "eventtype                                                       104   \n",
       "quantity                                                          1   \n",
       "price                                                            25   \n",
       "dayofweek                                                         3   \n",
       "hour                                                             21   \n",
       "devicecategory                                              Unknown   \n",
       "devicetype                                                  Unknown   \n",
       "agenttype                                                   Unknown   \n",
       "os                                                          Unknown   \n",
       "hist_ind                                                          1   \n",
       "elapsedtime                                                       0   \n",
       "totalelapsedtime                                                  0   \n",
       "nextaction                                                      104   \n",
       "\n",
       "                                                              85368  \\\n",
       "sessionid         8k5novj0knl8vha42324qs62p6vfa3im8djvdctm3m8p6g...   \n",
       "category                                                              \n",
       "createddate                                     2017-02-09 21:15:28   \n",
       "pagetitle                                          Paisley Elephant   \n",
       "userid                                               eeejle@aol.com   \n",
       "providerid             /JnX+WmfJI4b2+NBp7+e81TFoCCSGT8QarGV6f1hHf0=   \n",
       "productid                                               3.20113e+10   \n",
       "referrerurl                                                           \n",
       "deviceid                       61d85144-f7c4-4e48-9c1e-b3a37f5debba   \n",
       "eventtype                                                       104   \n",
       "quantity                                                          1   \n",
       "price                                                            25   \n",
       "dayofweek                                                         3   \n",
       "hour                                                             21   \n",
       "devicecategory                                              Unknown   \n",
       "devicetype                                                  Unknown   \n",
       "agenttype                                                   Unknown   \n",
       "os                                                          Unknown   \n",
       "hist_ind                                                          1   \n",
       "elapsedtime                                                       2   \n",
       "totalelapsedtime                                                  2   \n",
       "nextaction                                                        6   \n",
       "\n",
       "                                                              85369  \n",
       "sessionid         8k5novj0knl8vha42324qs62p6vfa3im8djvdctm3m8p6g...  \n",
       "category                                                             \n",
       "createddate                                     2017-02-09 21:18:53  \n",
       "pagetitle                                                  Oh Pooh!  \n",
       "userid                                               eeejle@aol.com  \n",
       "providerid             /JnX+WmfJI4b2+NBp7+e81TFoCCSGT8QarGV6f1hHf0=  \n",
       "productid                                               3.17349e+10  \n",
       "referrerurl                                                          \n",
       "deviceid                       61d85144-f7c4-4e48-9c1e-b3a37f5debba  \n",
       "eventtype                                                         6  \n",
       "quantity                                                          1  \n",
       "price                                                            25  \n",
       "dayofweek                                                         3  \n",
       "hour                                                             21  \n",
       "devicecategory                                              Unknown  \n",
       "devicetype                                                  Unknown  \n",
       "agenttype                                                   Unknown  \n",
       "os                                                          Unknown  \n",
       "hist_ind                                                          1  \n",
       "elapsedtime                                                     205  \n",
       "totalelapsedtime                                                207  \n",
       "nextaction                                                        6  "
      ]
     },
     "execution_count": 52,
     "metadata": {},
     "output_type": "execute_result"
    }
   ],
   "source": [
    "check.T"
   ]
  },
  {
   "cell_type": "code",
   "execution_count": 37,
   "metadata": {
    "collapsed": false
   },
   "outputs": [
    {
     "data": {
      "text/plain": [
       " 1.0      120894\n",
       " 3.0       25843\n",
       " 104.0     13047\n",
       " 7.0        7844\n",
       " 4.0        7407\n",
       " 6.0        7104\n",
       "-1.0        2575\n",
       "Name: nextaction, dtype: int64"
      ]
     },
     "execution_count": 37,
     "metadata": {},
     "output_type": "execute_result"
    }
   ],
   "source": [
    "Markov_test.swym_y.value_counts()"
   ]
  },
  {
   "cell_type": "code",
   "execution_count": null,
   "metadata": {
    "collapsed": true
   },
   "outputs": [],
   "source": []
  }
 ],
 "metadata": {
  "kernelspec": {
   "display_name": "Python 2",
   "language": "python",
   "name": "python2"
  },
  "language_info": {
   "codemirror_mode": {
    "name": "ipython",
    "version": 2
   },
   "file_extension": ".py",
   "mimetype": "text/x-python",
   "name": "python",
   "nbconvert_exporter": "python",
   "pygments_lexer": "ipython2",
   "version": "2.7.13"
  }
 },
 "nbformat": 4,
 "nbformat_minor": 2
}
